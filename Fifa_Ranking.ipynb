{
  "nbformat": 4,
  "nbformat_minor": 0,
  "metadata": {
    "colab": {
      "name": "Fifa Ranking",
      "version": "0.3.2",
      "provenance": [],
      "collapsed_sections": [],
      "include_colab_link": true
    },
    "kernelspec": {
      "display_name": "Python 3",
      "name": "python3"
    }
  },
  "cells": [
    {
      "cell_type": "markdown",
      "metadata": {
        "id": "view-in-github",
        "colab_type": "text"
      },
      "source": [
        "<a href=\"https://colab.research.google.com/github/kaindoh/Fifa-ranking/blob/master/Fifa_Ranking.ipynb\" target=\"_parent\"><img src=\"https://colab.research.google.com/assets/colab-badge.svg\" alt=\"Open In Colab\"/></a>"
      ]
    },
    {
      "cell_type": "markdown",
      "metadata": {
        "id": "bD9ZJoOVNp1P",
        "colab_type": "text"
      },
      "source": [
        "## Problem statement\n",
        "\n",
        "A Prediction result of a game between team 1 and team 2, based on who's home and who's away, and on whether or not the game is friendly.\n",
        "\n",
        "Approach 1: Polynomial approach\n",
        "\n",
        "Model 1: Predict how many goals the home team scores\n",
        "\n",
        "Model 2: Predict how many goals the away team scores\n",
        "\n",
        " \n",
        "\n",
        "Approach 2 Logistic approach\n",
        "\n",
        "To Figure out from the home team’s perspective if the game is a Win, Lose or Draw ."
      ]
    },
    {
      "cell_type": "markdown",
      "metadata": {
        "id": "_NI4SSRuOncN",
        "colab_type": "text"
      },
      "source": [
        "## Metrics of success\n",
        "\n",
        "On polynomial regression approach the metrics of success are RootMeanSquaredError and r2_score\n",
        "\n",
        "On Logistic approach metrics of success are f1-score accuracy and confusion matrix"
      ]
    },
    {
      "cell_type": "markdown",
      "metadata": {
        "id": "m_telymtfIEM",
        "colab_type": "text"
      },
      "source": [
        "## Importing libaries"
      ]
    },
    {
      "cell_type": "code",
      "metadata": {
        "id": "zUqoyME7ELhF",
        "colab_type": "code",
        "colab": {}
      },
      "source": [
        "# Importing libraries\n",
        "\n",
        "import pandas as pd\n",
        "import numpy as np\n",
        "import matplotlib.pyplot as plt\n",
        "%matplotlib inline\n",
        "import seaborn as sns\n",
        "from scipy.stats import chi2,bartlett\n",
        "from sklearn.preprocessing import StandardScaler,PolynomialFeatures,LabelEncoder,OneHotEncoder\n",
        "from sklearn.model_selection import train_test_split,GridSearchCV,RandomizedSearchCV,KFold,StratifiedKFold,cross_val_score\n",
        "from sklearn.linear_model import LogisticRegression,LinearRegression\n",
        "from sklearn.metrics import mean_squared_error,r2_score,accuracy_score,f1_score,classification_report,confusion_matrix\n",
        "from sklearn.decomposition import PCA\n",
        "from sklearn.ensemble import RandomForestClassifier\n",
        "from sklearn.naive_bayes import GaussianNB\n",
        "from sklearn.svm import SVC\n",
        "import warnings\n",
        "warnings.filterwarnings('ignore')\n"
      ],
      "execution_count": 0,
      "outputs": []
    },
    {
      "cell_type": "markdown",
      "metadata": {
        "id": "I4Dl1Sw-fRM5",
        "colab_type": "text"
      },
      "source": [
        "## Loading rank dataset"
      ]
    },
    {
      "cell_type": "code",
      "metadata": {
        "id": "cVamJwZlELjT",
        "colab_type": "code",
        "outputId": "4544729e-b891-4866-896a-11c492e77366",
        "colab": {
          "base_uri": "https://localhost:8080/",
          "height": 299
        }
      },
      "source": [
        "# Loading Fifa ranking Dataset\n",
        "r = pd.read_csv(\"fifa_ranking.csv\")\n",
        "\n",
        "#Preview the head of dataset\n",
        "r.head()"
      ],
      "execution_count": 0,
      "outputs": [
        {
          "output_type": "execute_result",
          "data": {
            "text/html": [
              "<div>\n",
              "<style scoped>\n",
              "    .dataframe tbody tr th:only-of-type {\n",
              "        vertical-align: middle;\n",
              "    }\n",
              "\n",
              "    .dataframe tbody tr th {\n",
              "        vertical-align: top;\n",
              "    }\n",
              "\n",
              "    .dataframe thead th {\n",
              "        text-align: right;\n",
              "    }\n",
              "</style>\n",
              "<table border=\"1\" class=\"dataframe\">\n",
              "  <thead>\n",
              "    <tr style=\"text-align: right;\">\n",
              "      <th></th>\n",
              "      <th>rank</th>\n",
              "      <th>country_full</th>\n",
              "      <th>country_abrv</th>\n",
              "      <th>total_points</th>\n",
              "      <th>previous_points</th>\n",
              "      <th>rank_change</th>\n",
              "      <th>cur_year_avg</th>\n",
              "      <th>cur_year_avg_weighted</th>\n",
              "      <th>last_year_avg</th>\n",
              "      <th>last_year_avg_weighted</th>\n",
              "      <th>two_year_ago_avg</th>\n",
              "      <th>two_year_ago_weighted</th>\n",
              "      <th>three_year_ago_avg</th>\n",
              "      <th>three_year_ago_weighted</th>\n",
              "      <th>confederation</th>\n",
              "      <th>rank_date</th>\n",
              "    </tr>\n",
              "  </thead>\n",
              "  <tbody>\n",
              "    <tr>\n",
              "      <th>0</th>\n",
              "      <td>1</td>\n",
              "      <td>Germany</td>\n",
              "      <td>GER</td>\n",
              "      <td>0.0</td>\n",
              "      <td>57</td>\n",
              "      <td>0</td>\n",
              "      <td>0.0</td>\n",
              "      <td>0.0</td>\n",
              "      <td>0.0</td>\n",
              "      <td>0.0</td>\n",
              "      <td>0.0</td>\n",
              "      <td>0.0</td>\n",
              "      <td>0.0</td>\n",
              "      <td>0.0</td>\n",
              "      <td>UEFA</td>\n",
              "      <td>1993-08-08</td>\n",
              "    </tr>\n",
              "    <tr>\n",
              "      <th>1</th>\n",
              "      <td>2</td>\n",
              "      <td>Italy</td>\n",
              "      <td>ITA</td>\n",
              "      <td>0.0</td>\n",
              "      <td>57</td>\n",
              "      <td>0</td>\n",
              "      <td>0.0</td>\n",
              "      <td>0.0</td>\n",
              "      <td>0.0</td>\n",
              "      <td>0.0</td>\n",
              "      <td>0.0</td>\n",
              "      <td>0.0</td>\n",
              "      <td>0.0</td>\n",
              "      <td>0.0</td>\n",
              "      <td>UEFA</td>\n",
              "      <td>1993-08-08</td>\n",
              "    </tr>\n",
              "    <tr>\n",
              "      <th>2</th>\n",
              "      <td>3</td>\n",
              "      <td>Switzerland</td>\n",
              "      <td>SUI</td>\n",
              "      <td>0.0</td>\n",
              "      <td>50</td>\n",
              "      <td>9</td>\n",
              "      <td>0.0</td>\n",
              "      <td>0.0</td>\n",
              "      <td>0.0</td>\n",
              "      <td>0.0</td>\n",
              "      <td>0.0</td>\n",
              "      <td>0.0</td>\n",
              "      <td>0.0</td>\n",
              "      <td>0.0</td>\n",
              "      <td>UEFA</td>\n",
              "      <td>1993-08-08</td>\n",
              "    </tr>\n",
              "    <tr>\n",
              "      <th>3</th>\n",
              "      <td>4</td>\n",
              "      <td>Sweden</td>\n",
              "      <td>SWE</td>\n",
              "      <td>0.0</td>\n",
              "      <td>55</td>\n",
              "      <td>0</td>\n",
              "      <td>0.0</td>\n",
              "      <td>0.0</td>\n",
              "      <td>0.0</td>\n",
              "      <td>0.0</td>\n",
              "      <td>0.0</td>\n",
              "      <td>0.0</td>\n",
              "      <td>0.0</td>\n",
              "      <td>0.0</td>\n",
              "      <td>UEFA</td>\n",
              "      <td>1993-08-08</td>\n",
              "    </tr>\n",
              "    <tr>\n",
              "      <th>4</th>\n",
              "      <td>5</td>\n",
              "      <td>Argentina</td>\n",
              "      <td>ARG</td>\n",
              "      <td>0.0</td>\n",
              "      <td>51</td>\n",
              "      <td>5</td>\n",
              "      <td>0.0</td>\n",
              "      <td>0.0</td>\n",
              "      <td>0.0</td>\n",
              "      <td>0.0</td>\n",
              "      <td>0.0</td>\n",
              "      <td>0.0</td>\n",
              "      <td>0.0</td>\n",
              "      <td>0.0</td>\n",
              "      <td>CONMEBOL</td>\n",
              "      <td>1993-08-08</td>\n",
              "    </tr>\n",
              "  </tbody>\n",
              "</table>\n",
              "</div>"
            ],
            "text/plain": [
              "   rank country_full  ... confederation   rank_date\n",
              "0     1      Germany  ...          UEFA  1993-08-08\n",
              "1     2        Italy  ...          UEFA  1993-08-08\n",
              "2     3  Switzerland  ...          UEFA  1993-08-08\n",
              "3     4       Sweden  ...          UEFA  1993-08-08\n",
              "4     5    Argentina  ...      CONMEBOL  1993-08-08\n",
              "\n",
              "[5 rows x 16 columns]"
            ]
          },
          "metadata": {
            "tags": []
          },
          "execution_count": 304
        }
      ]
    },
    {
      "cell_type": "markdown",
      "metadata": {
        "id": "n-_GMwvoP81R",
        "colab_type": "text"
      },
      "source": [
        "## Explorative data analysis on Rank Dataset"
      ]
    },
    {
      "cell_type": "code",
      "metadata": {
        "id": "sho2kP6WHsaN",
        "colab_type": "code",
        "outputId": "7c417939-c4a6-4682-c5a3-4379200775cd",
        "colab": {
          "base_uri": "https://localhost:8080/",
          "height": 370
        }
      },
      "source": [
        "# Getting the information of the rank dataset\n",
        "\n",
        "r.info()"
      ],
      "execution_count": 0,
      "outputs": [
        {
          "output_type": "stream",
          "text": [
            "<class 'pandas.core.frame.DataFrame'>\n",
            "RangeIndex: 57793 entries, 0 to 57792\n",
            "Data columns (total 16 columns):\n",
            "rank                       57793 non-null int64\n",
            "country_full               57793 non-null object\n",
            "country_abrv               57793 non-null object\n",
            "total_points               57793 non-null float64\n",
            "previous_points            57793 non-null int64\n",
            "rank_change                57793 non-null int64\n",
            "cur_year_avg               57793 non-null float64\n",
            "cur_year_avg_weighted      57793 non-null float64\n",
            "last_year_avg              57793 non-null float64\n",
            "last_year_avg_weighted     57793 non-null float64\n",
            "two_year_ago_avg           57793 non-null float64\n",
            "two_year_ago_weighted      57793 non-null float64\n",
            "three_year_ago_avg         57793 non-null float64\n",
            "three_year_ago_weighted    57793 non-null float64\n",
            "confederation              57793 non-null object\n",
            "rank_date                  57793 non-null object\n",
            "dtypes: float64(9), int64(3), object(4)\n",
            "memory usage: 7.1+ MB\n"
          ],
          "name": "stdout"
        }
      ]
    },
    {
      "cell_type": "code",
      "metadata": {
        "id": "PLAKwlFDH1r0",
        "colab_type": "code",
        "outputId": "fa6a9e64-0ec0-4c92-a329-0b5c7344ffbc",
        "colab": {
          "base_uri": "https://localhost:8080/",
          "height": 304
        }
      },
      "source": [
        "# Getting the statistical information of the rank dataset\n",
        "\n",
        "r.describe()"
      ],
      "execution_count": 0,
      "outputs": [
        {
          "output_type": "execute_result",
          "data": {
            "text/html": [
              "<div>\n",
              "<style scoped>\n",
              "    .dataframe tbody tr th:only-of-type {\n",
              "        vertical-align: middle;\n",
              "    }\n",
              "\n",
              "    .dataframe tbody tr th {\n",
              "        vertical-align: top;\n",
              "    }\n",
              "\n",
              "    .dataframe thead th {\n",
              "        text-align: right;\n",
              "    }\n",
              "</style>\n",
              "<table border=\"1\" class=\"dataframe\">\n",
              "  <thead>\n",
              "    <tr style=\"text-align: right;\">\n",
              "      <th></th>\n",
              "      <th>rank</th>\n",
              "      <th>total_points</th>\n",
              "      <th>previous_points</th>\n",
              "      <th>rank_change</th>\n",
              "      <th>cur_year_avg</th>\n",
              "      <th>cur_year_avg_weighted</th>\n",
              "      <th>last_year_avg</th>\n",
              "      <th>last_year_avg_weighted</th>\n",
              "      <th>two_year_ago_avg</th>\n",
              "      <th>two_year_ago_weighted</th>\n",
              "      <th>three_year_ago_avg</th>\n",
              "      <th>three_year_ago_weighted</th>\n",
              "    </tr>\n",
              "  </thead>\n",
              "  <tbody>\n",
              "    <tr>\n",
              "      <th>count</th>\n",
              "      <td>57793.000000</td>\n",
              "      <td>57793.000000</td>\n",
              "      <td>57793.000000</td>\n",
              "      <td>57793.000000</td>\n",
              "      <td>57793.000000</td>\n",
              "      <td>57793.000000</td>\n",
              "      <td>57793.000000</td>\n",
              "      <td>57793.000000</td>\n",
              "      <td>57793.000000</td>\n",
              "      <td>57793.000000</td>\n",
              "      <td>57793.000000</td>\n",
              "      <td>57793.000000</td>\n",
              "    </tr>\n",
              "    <tr>\n",
              "      <th>mean</th>\n",
              "      <td>101.628086</td>\n",
              "      <td>122.068637</td>\n",
              "      <td>332.302926</td>\n",
              "      <td>-0.009897</td>\n",
              "      <td>61.798602</td>\n",
              "      <td>61.798602</td>\n",
              "      <td>61.004602</td>\n",
              "      <td>30.502377</td>\n",
              "      <td>59.777462</td>\n",
              "      <td>17.933277</td>\n",
              "      <td>59.173916</td>\n",
              "      <td>11.834811</td>\n",
              "    </tr>\n",
              "    <tr>\n",
              "      <th>std</th>\n",
              "      <td>58.618424</td>\n",
              "      <td>260.426863</td>\n",
              "      <td>302.872948</td>\n",
              "      <td>5.804309</td>\n",
              "      <td>138.014883</td>\n",
              "      <td>138.014883</td>\n",
              "      <td>137.688204</td>\n",
              "      <td>68.844143</td>\n",
              "      <td>136.296079</td>\n",
              "      <td>40.888849</td>\n",
              "      <td>135.533343</td>\n",
              "      <td>27.106675</td>\n",
              "    </tr>\n",
              "    <tr>\n",
              "      <th>min</th>\n",
              "      <td>1.000000</td>\n",
              "      <td>0.000000</td>\n",
              "      <td>0.000000</td>\n",
              "      <td>-72.000000</td>\n",
              "      <td>0.000000</td>\n",
              "      <td>0.000000</td>\n",
              "      <td>0.000000</td>\n",
              "      <td>0.000000</td>\n",
              "      <td>0.000000</td>\n",
              "      <td>0.000000</td>\n",
              "      <td>0.000000</td>\n",
              "      <td>0.000000</td>\n",
              "    </tr>\n",
              "    <tr>\n",
              "      <th>25%</th>\n",
              "      <td>51.000000</td>\n",
              "      <td>0.000000</td>\n",
              "      <td>56.000000</td>\n",
              "      <td>-2.000000</td>\n",
              "      <td>0.000000</td>\n",
              "      <td>0.000000</td>\n",
              "      <td>0.000000</td>\n",
              "      <td>0.000000</td>\n",
              "      <td>0.000000</td>\n",
              "      <td>0.000000</td>\n",
              "      <td>0.000000</td>\n",
              "      <td>0.000000</td>\n",
              "    </tr>\n",
              "    <tr>\n",
              "      <th>50%</th>\n",
              "      <td>101.000000</td>\n",
              "      <td>0.000000</td>\n",
              "      <td>272.000000</td>\n",
              "      <td>0.000000</td>\n",
              "      <td>0.000000</td>\n",
              "      <td>0.000000</td>\n",
              "      <td>0.000000</td>\n",
              "      <td>0.000000</td>\n",
              "      <td>0.000000</td>\n",
              "      <td>0.000000</td>\n",
              "      <td>0.000000</td>\n",
              "      <td>0.000000</td>\n",
              "    </tr>\n",
              "    <tr>\n",
              "      <th>75%</th>\n",
              "      <td>152.000000</td>\n",
              "      <td>92.790000</td>\n",
              "      <td>525.000000</td>\n",
              "      <td>1.000000</td>\n",
              "      <td>32.250000</td>\n",
              "      <td>32.250000</td>\n",
              "      <td>26.660000</td>\n",
              "      <td>13.330000</td>\n",
              "      <td>21.500000</td>\n",
              "      <td>6.450000</td>\n",
              "      <td>21.250000</td>\n",
              "      <td>4.250000</td>\n",
              "    </tr>\n",
              "    <tr>\n",
              "      <th>max</th>\n",
              "      <td>209.000000</td>\n",
              "      <td>1775.030000</td>\n",
              "      <td>1920.000000</td>\n",
              "      <td>92.000000</td>\n",
              "      <td>1158.660000</td>\n",
              "      <td>1158.660000</td>\n",
              "      <td>1169.570000</td>\n",
              "      <td>584.790000</td>\n",
              "      <td>1159.710000</td>\n",
              "      <td>347.910000</td>\n",
              "      <td>1200.770000</td>\n",
              "      <td>240.150000</td>\n",
              "    </tr>\n",
              "  </tbody>\n",
              "</table>\n",
              "</div>"
            ],
            "text/plain": [
              "               rank  total_points  ...  three_year_ago_avg  three_year_ago_weighted\n",
              "count  57793.000000  57793.000000  ...        57793.000000             57793.000000\n",
              "mean     101.628086    122.068637  ...           59.173916                11.834811\n",
              "std       58.618424    260.426863  ...          135.533343                27.106675\n",
              "min        1.000000      0.000000  ...            0.000000                 0.000000\n",
              "25%       51.000000      0.000000  ...            0.000000                 0.000000\n",
              "50%      101.000000      0.000000  ...            0.000000                 0.000000\n",
              "75%      152.000000     92.790000  ...           21.250000                 4.250000\n",
              "max      209.000000   1775.030000  ...         1200.770000               240.150000\n",
              "\n",
              "[8 rows x 12 columns]"
            ]
          },
          "metadata": {
            "tags": []
          },
          "execution_count": 306
        }
      ]
    },
    {
      "cell_type": "code",
      "metadata": {
        "id": "esRpfuJBIGR0",
        "colab_type": "code",
        "outputId": "0832a140-eae9-4d83-a4d2-b1b55bd4a723",
        "colab": {
          "base_uri": "https://localhost:8080/",
          "height": 34
        }
      },
      "source": [
        "# Checking for null values in the rank dataset\n",
        "\n",
        "r.isnull().sum().any()"
      ],
      "execution_count": 0,
      "outputs": [
        {
          "output_type": "execute_result",
          "data": {
            "text/plain": [
              "False"
            ]
          },
          "metadata": {
            "tags": []
          },
          "execution_count": 307
        }
      ]
    },
    {
      "cell_type": "code",
      "metadata": {
        "id": "QtjCI013Rd8W",
        "colab_type": "code",
        "outputId": "cffa0eec-6b4a-4af9-d2d9-677ccc97e300",
        "colab": {
          "base_uri": "https://localhost:8080/",
          "height": 34
        }
      },
      "source": [
        "# Checking for duplicates\n",
        "r.duplicated().any()"
      ],
      "execution_count": 0,
      "outputs": [
        {
          "output_type": "execute_result",
          "data": {
            "text/plain": [
              "True"
            ]
          },
          "metadata": {
            "tags": []
          },
          "execution_count": 349
        }
      ]
    },
    {
      "cell_type": "code",
      "metadata": {
        "id": "joRPKRSKRqsj",
        "colab_type": "code",
        "colab": {}
      },
      "source": [
        "# Droping duplicates\n",
        "r.drop_duplicates(keep ='first',inplace=True)\n",
        "\n",
        "# Checking for duplicates whether they have actually been dropped\n",
        "r.duplicated().any()"
      ],
      "execution_count": 0,
      "outputs": []
    },
    {
      "cell_type": "code",
      "metadata": {
        "id": "HsN8KCcGIkLh",
        "colab_type": "code",
        "outputId": "41ebdd0e-ae5d-42dd-cf7d-3158e5cdaa99",
        "colab": {
          "base_uri": "https://localhost:8080/",
          "height": 118
        }
      },
      "source": [
        "# Getting the name of the rank datasets columns\n",
        "\n",
        "r.columns"
      ],
      "execution_count": 0,
      "outputs": [
        {
          "output_type": "execute_result",
          "data": {
            "text/plain": [
              "Index(['rank', 'country_full', 'country_abrv', 'total_points',\n",
              "       'previous_points', 'rank_change', 'cur_year_avg',\n",
              "       'cur_year_avg_weighted', 'last_year_avg', 'last_year_avg_weighted',\n",
              "       'two_year_ago_avg', 'two_year_ago_weighted', 'three_year_ago_avg',\n",
              "       'three_year_ago_weighted', 'confederation', 'rank_date'],\n",
              "      dtype='object')"
            ]
          },
          "metadata": {
            "tags": []
          },
          "execution_count": 308
        }
      ]
    },
    {
      "cell_type": "code",
      "metadata": {
        "id": "4ikHzl5FIx2M",
        "colab_type": "code",
        "outputId": "23b920b8-846b-43b8-dc4e-5f577fbc930e",
        "colab": {
          "base_uri": "https://localhost:8080/",
          "height": 34
        }
      },
      "source": [
        "# Getting the number of unique countries in the rank datasets\n",
        "\n",
        "uniq_country = r.country_full.unique()\n",
        "len(uniq_country)"
      ],
      "execution_count": 0,
      "outputs": [
        {
          "output_type": "execute_result",
          "data": {
            "text/plain": [
              "216"
            ]
          },
          "metadata": {
            "tags": []
          },
          "execution_count": 309
        }
      ]
    },
    {
      "cell_type": "code",
      "metadata": {
        "id": "3xrwhNJ_KTKS",
        "colab_type": "code",
        "outputId": "ab161ce3-1ef5-4628-cf2c-65331a077709",
        "colab": {
          "base_uri": "https://localhost:8080/",
          "height": 34
        }
      },
      "source": [
        "# Getting the number of unique dates in the rank datasets\n",
        "\n",
        "uniq_dates = r.rank_date.unique()\n",
        "len(uniq_dates)"
      ],
      "execution_count": 0,
      "outputs": [
        {
          "output_type": "execute_result",
          "data": {
            "text/plain": [
              "286"
            ]
          },
          "metadata": {
            "tags": []
          },
          "execution_count": 310
        }
      ]
    },
    {
      "cell_type": "markdown",
      "metadata": {
        "id": "6dagicdehIw2",
        "colab_type": "text"
      },
      "source": [
        "## Loading results datasets"
      ]
    },
    {
      "cell_type": "code",
      "metadata": {
        "id": "zdmtNvT5ELme",
        "colab_type": "code",
        "outputId": "11e7c00b-b2af-46a8-aa01-0a7a05d56a7b",
        "colab": {
          "base_uri": "https://localhost:8080/",
          "height": 299
        }
      },
      "source": [
        "# Loading results Dataset\n",
        "\n",
        "res = pd.read_csv(\"results.csv\")\n",
        "res.head()"
      ],
      "execution_count": 0,
      "outputs": [
        {
          "output_type": "execute_result",
          "data": {
            "text/html": [
              "<div>\n",
              "<style scoped>\n",
              "    .dataframe tbody tr th:only-of-type {\n",
              "        vertical-align: middle;\n",
              "    }\n",
              "\n",
              "    .dataframe tbody tr th {\n",
              "        vertical-align: top;\n",
              "    }\n",
              "\n",
              "    .dataframe thead th {\n",
              "        text-align: right;\n",
              "    }\n",
              "</style>\n",
              "<table border=\"1\" class=\"dataframe\">\n",
              "  <thead>\n",
              "    <tr style=\"text-align: right;\">\n",
              "      <th></th>\n",
              "      <th>date</th>\n",
              "      <th>home_team</th>\n",
              "      <th>away_team</th>\n",
              "      <th>home_score</th>\n",
              "      <th>away_score</th>\n",
              "      <th>tournament</th>\n",
              "      <th>city</th>\n",
              "      <th>country</th>\n",
              "      <th>neutral</th>\n",
              "    </tr>\n",
              "  </thead>\n",
              "  <tbody>\n",
              "    <tr>\n",
              "      <th>0</th>\n",
              "      <td>1872-11-30</td>\n",
              "      <td>Scotland</td>\n",
              "      <td>England</td>\n",
              "      <td>0</td>\n",
              "      <td>0</td>\n",
              "      <td>Friendly</td>\n",
              "      <td>Glasgow</td>\n",
              "      <td>Scotland</td>\n",
              "      <td>False</td>\n",
              "    </tr>\n",
              "    <tr>\n",
              "      <th>1</th>\n",
              "      <td>1873-03-08</td>\n",
              "      <td>England</td>\n",
              "      <td>Scotland</td>\n",
              "      <td>4</td>\n",
              "      <td>2</td>\n",
              "      <td>Friendly</td>\n",
              "      <td>London</td>\n",
              "      <td>England</td>\n",
              "      <td>False</td>\n",
              "    </tr>\n",
              "    <tr>\n",
              "      <th>2</th>\n",
              "      <td>1874-03-07</td>\n",
              "      <td>Scotland</td>\n",
              "      <td>England</td>\n",
              "      <td>2</td>\n",
              "      <td>1</td>\n",
              "      <td>Friendly</td>\n",
              "      <td>Glasgow</td>\n",
              "      <td>Scotland</td>\n",
              "      <td>False</td>\n",
              "    </tr>\n",
              "    <tr>\n",
              "      <th>3</th>\n",
              "      <td>1875-03-06</td>\n",
              "      <td>England</td>\n",
              "      <td>Scotland</td>\n",
              "      <td>2</td>\n",
              "      <td>2</td>\n",
              "      <td>Friendly</td>\n",
              "      <td>London</td>\n",
              "      <td>England</td>\n",
              "      <td>False</td>\n",
              "    </tr>\n",
              "    <tr>\n",
              "      <th>4</th>\n",
              "      <td>1876-03-04</td>\n",
              "      <td>Scotland</td>\n",
              "      <td>England</td>\n",
              "      <td>3</td>\n",
              "      <td>0</td>\n",
              "      <td>Friendly</td>\n",
              "      <td>Glasgow</td>\n",
              "      <td>Scotland</td>\n",
              "      <td>False</td>\n",
              "    </tr>\n",
              "  </tbody>\n",
              "</table>\n",
              "</div>"
            ],
            "text/plain": [
              "         date home_team away_team  ...     city   country neutral\n",
              "0  1872-11-30  Scotland   England  ...  Glasgow  Scotland   False\n",
              "1  1873-03-08   England  Scotland  ...   London   England   False\n",
              "2  1874-03-07  Scotland   England  ...  Glasgow  Scotland   False\n",
              "3  1875-03-06   England  Scotland  ...   London   England   False\n",
              "4  1876-03-04  Scotland   England  ...  Glasgow  Scotland   False\n",
              "\n",
              "[5 rows x 9 columns]"
            ]
          },
          "metadata": {
            "tags": []
          },
          "execution_count": 312
        }
      ]
    },
    {
      "cell_type": "markdown",
      "metadata": {
        "id": "TgOVcbE9RS9x",
        "colab_type": "text"
      },
      "source": [
        "## Explorative data analysis on Result Dataset"
      ]
    },
    {
      "cell_type": "code",
      "metadata": {
        "id": "ErHNa9p9ELpz",
        "colab_type": "code",
        "outputId": "0dd1954e-dc40-4652-b69b-ea0130bef6c0",
        "colab": {
          "base_uri": "https://localhost:8080/",
          "height": 252
        }
      },
      "source": [
        "# Getting the information of the results datasets\n",
        "\n",
        "res.info()"
      ],
      "execution_count": 0,
      "outputs": [
        {
          "output_type": "stream",
          "text": [
            "<class 'pandas.core.frame.DataFrame'>\n",
            "RangeIndex: 40839 entries, 0 to 40838\n",
            "Data columns (total 9 columns):\n",
            "date          40839 non-null object\n",
            "home_team     40839 non-null object\n",
            "away_team     40839 non-null object\n",
            "home_score    40839 non-null int64\n",
            "away_score    40839 non-null int64\n",
            "tournament    40839 non-null object\n",
            "city          40839 non-null object\n",
            "country       40839 non-null object\n",
            "neutral       40839 non-null bool\n",
            "dtypes: bool(1), int64(2), object(6)\n",
            "memory usage: 2.5+ MB\n"
          ],
          "name": "stdout"
        }
      ]
    },
    {
      "cell_type": "code",
      "metadata": {
        "id": "kAnCkjVOELs1",
        "colab_type": "code",
        "outputId": "ced50d31-dfae-4a1d-b254-8c1feaa3011a",
        "colab": {
          "base_uri": "https://localhost:8080/",
          "height": 284
        }
      },
      "source": [
        "# Getting the statistical information of the results dataset\n",
        "\n",
        "res.describe()"
      ],
      "execution_count": 0,
      "outputs": [
        {
          "output_type": "execute_result",
          "data": {
            "text/html": [
              "<div>\n",
              "<style scoped>\n",
              "    .dataframe tbody tr th:only-of-type {\n",
              "        vertical-align: middle;\n",
              "    }\n",
              "\n",
              "    .dataframe tbody tr th {\n",
              "        vertical-align: top;\n",
              "    }\n",
              "\n",
              "    .dataframe thead th {\n",
              "        text-align: right;\n",
              "    }\n",
              "</style>\n",
              "<table border=\"1\" class=\"dataframe\">\n",
              "  <thead>\n",
              "    <tr style=\"text-align: right;\">\n",
              "      <th></th>\n",
              "      <th>home_score</th>\n",
              "      <th>away_score</th>\n",
              "    </tr>\n",
              "  </thead>\n",
              "  <tbody>\n",
              "    <tr>\n",
              "      <th>count</th>\n",
              "      <td>40839.000000</td>\n",
              "      <td>40839.000000</td>\n",
              "    </tr>\n",
              "    <tr>\n",
              "      <th>mean</th>\n",
              "      <td>1.745709</td>\n",
              "      <td>1.188105</td>\n",
              "    </tr>\n",
              "    <tr>\n",
              "      <th>std</th>\n",
              "      <td>1.749145</td>\n",
              "      <td>1.405120</td>\n",
              "    </tr>\n",
              "    <tr>\n",
              "      <th>min</th>\n",
              "      <td>0.000000</td>\n",
              "      <td>0.000000</td>\n",
              "    </tr>\n",
              "    <tr>\n",
              "      <th>25%</th>\n",
              "      <td>1.000000</td>\n",
              "      <td>0.000000</td>\n",
              "    </tr>\n",
              "    <tr>\n",
              "      <th>50%</th>\n",
              "      <td>1.000000</td>\n",
              "      <td>1.000000</td>\n",
              "    </tr>\n",
              "    <tr>\n",
              "      <th>75%</th>\n",
              "      <td>2.000000</td>\n",
              "      <td>2.000000</td>\n",
              "    </tr>\n",
              "    <tr>\n",
              "      <th>max</th>\n",
              "      <td>31.000000</td>\n",
              "      <td>21.000000</td>\n",
              "    </tr>\n",
              "  </tbody>\n",
              "</table>\n",
              "</div>"
            ],
            "text/plain": [
              "         home_score    away_score\n",
              "count  40839.000000  40839.000000\n",
              "mean       1.745709      1.188105\n",
              "std        1.749145      1.405120\n",
              "min        0.000000      0.000000\n",
              "25%        1.000000      0.000000\n",
              "50%        1.000000      1.000000\n",
              "75%        2.000000      2.000000\n",
              "max       31.000000     21.000000"
            ]
          },
          "metadata": {
            "tags": []
          },
          "execution_count": 314
        }
      ]
    },
    {
      "cell_type": "code",
      "metadata": {
        "id": "_Nk5aoQ4ELwD",
        "colab_type": "code",
        "outputId": "11e92a8f-ae04-4760-e6ae-717a31e9bc05",
        "colab": {
          "base_uri": "https://localhost:8080/",
          "height": 34
        }
      },
      "source": [
        "# Checking whether the results dataset has null values\n",
        "\n",
        "res.isnull().sum().any()"
      ],
      "execution_count": 0,
      "outputs": [
        {
          "output_type": "execute_result",
          "data": {
            "text/plain": [
              "False"
            ]
          },
          "metadata": {
            "tags": []
          },
          "execution_count": 315
        }
      ]
    },
    {
      "cell_type": "code",
      "metadata": {
        "id": "i9XrmzDMELzN",
        "colab_type": "code",
        "outputId": "afcd563f-8c43-4b06-a7f7-c6343ea5fe32",
        "colab": {
          "base_uri": "https://localhost:8080/",
          "height": 67
        }
      },
      "source": [
        "# Getting the names of the results columns\n",
        "\n",
        "res.columns"
      ],
      "execution_count": 0,
      "outputs": [
        {
          "output_type": "execute_result",
          "data": {
            "text/plain": [
              "Index(['date', 'home_team', 'away_team', 'home_score', 'away_score',\n",
              "       'tournament', 'city', 'country', 'neutral'],\n",
              "      dtype='object')"
            ]
          },
          "metadata": {
            "tags": []
          },
          "execution_count": 316
        }
      ]
    },
    {
      "cell_type": "code",
      "metadata": {
        "id": "h_E6yUSzMgqw",
        "colab_type": "code",
        "outputId": "eb424e6b-95ec-4ddd-9917-9c60c3748c13",
        "colab": {
          "base_uri": "https://localhost:8080/",
          "height": 34
        }
      },
      "source": [
        "# Checking the null values in the results column\n",
        "\n",
        "res.isnull().sum().any()"
      ],
      "execution_count": 0,
      "outputs": [
        {
          "output_type": "execute_result",
          "data": {
            "text/plain": [
              "False"
            ]
          },
          "metadata": {
            "tags": []
          },
          "execution_count": 317
        }
      ]
    },
    {
      "cell_type": "code",
      "metadata": {
        "id": "zy2hBOE2EL2O",
        "colab_type": "code",
        "outputId": "0ba08649-585b-4277-a1b5-bafc011ebfd1",
        "colab": {
          "base_uri": "https://localhost:8080/",
          "height": 34
        }
      },
      "source": [
        "# Checking the unique countries in the results dataset\n",
        "\n",
        "uniq_country_res = res.country.unique()\n",
        "len(uniq_country_res)"
      ],
      "execution_count": 0,
      "outputs": [
        {
          "output_type": "execute_result",
          "data": {
            "text/plain": [
              "266"
            ]
          },
          "metadata": {
            "tags": []
          },
          "execution_count": 318
        }
      ]
    },
    {
      "cell_type": "code",
      "metadata": {
        "id": "sn43gDJkEL5G",
        "colab_type": "code",
        "outputId": "1c9df502-c2ed-496b-fd44-ff9ad0f96a2e",
        "colab": {
          "base_uri": "https://localhost:8080/",
          "height": 34
        }
      },
      "source": [
        "# Checking the unique dates in the results dataset\n",
        "\n",
        "uniq_date_res = res.date.unique()\n",
        "len(uniq_date_res)"
      ],
      "execution_count": 0,
      "outputs": [
        {
          "output_type": "execute_result",
          "data": {
            "text/plain": [
              "15115"
            ]
          },
          "metadata": {
            "tags": []
          },
          "execution_count": 319
        }
      ]
    },
    {
      "cell_type": "markdown",
      "metadata": {
        "id": "u9hIyvxtimM3",
        "colab_type": "text"
      },
      "source": [
        "## Merging the rank and results dataset"
      ]
    },
    {
      "cell_type": "code",
      "metadata": {
        "id": "XWDjZb7crROv",
        "colab_type": "code",
        "outputId": "11fe3fb2-27d3-4d24-9acf-9bcb9ce2b4c0",
        "colab": {
          "base_uri": "https://localhost:8080/",
          "height": 70
        }
      },
      "source": [
        "# Checking unique dates that are common in both datasets\n",
        "\n",
        "list1 = []\n",
        "\n",
        "uniq_dates  = list(uniq_dates)\n",
        "uniq_date_res = list(uniq_date_res)\n",
        "\n",
        "for x in uniq_dates:\n",
        "  if x in uniq_date_res:\n",
        "    list1.append(x)\n",
        "print(list1)\n",
        "print(len(list1))"
      ],
      "execution_count": 359,
      "outputs": [
        {
          "output_type": "stream",
          "text": [
            "['1993-08-08', '1993-09-23', '1993-10-22', '1994-03-15', '1994-04-19', '1994-05-17', '1994-09-13', '1994-10-25', '1994-11-22', '1995-04-19', '1995-07-25', '1995-08-22', '1996-01-24', '1996-02-21', '1996-04-24', '1996-08-28', '1996-09-25', '1996-10-23', '1996-11-20', '1996-12-18', '1997-04-09', '1997-06-18', '1997-08-20', '1997-10-17', '1997-11-19', '1997-12-23', '1998-02-18', '1998-03-18', '1998-04-22', '1998-05-20', '1998-07-15', '1998-08-19', '1998-09-16', '1998-10-21', '1998-11-18', '1998-12-23', '1999-01-27', '1999-02-24', '1999-03-24', '1999-05-19', '1999-06-16', '1999-07-21', '1999-08-18', '1999-10-13', '1999-11-17', '1999-12-22', '2000-01-19', '2000-02-16', '2000-03-15', '2000-04-12', '2000-05-10', '2000-06-07', '2000-07-05', '2000-08-09', '2000-10-11', '2000-11-15', '2000-12-20', '2001-01-17', '2001-02-14', '2001-03-14', '2001-04-11', '2001-05-16', '2001-06-20', '2001-07-18', '2001-11-21', '2002-01-16', '2002-02-13', '2002-03-20', '2002-04-17', '2002-05-15', '2002-07-03', '2002-09-18', '2002-10-23', '2002-11-20', '2002-12-18', '2003-01-15', '2003-03-26', '2003-04-23', '2003-05-21', '2003-07-30', '2003-08-27', '2003-09-24', '2003-10-22', '2003-11-19', '2003-12-15', '2004-01-14', '2004-02-18', '2004-03-17', '2004-04-14', '2004-05-12', '2004-06-09', '2004-07-07', '2004-09-01', '2004-10-06', '2004-11-10', '2004-12-20', '2005-01-19', '2005-02-16', '2005-03-23', '2005-04-20', '2005-06-15', '2005-08-17', '2005-12-16', '2006-01-18', '2006-02-15', '2006-03-15', '2006-08-16', '2006-10-18', '2007-01-17', '2007-04-18', '2007-05-16', '2007-06-13', '2007-07-18', '2007-08-22', '2007-10-24', '2007-12-17', '2008-01-16', '2008-04-09', '2008-05-07', '2008-06-04', '2008-08-06', '2008-09-03', '2008-10-08', '2008-11-12', '2008-12-17', '2009-01-14', '2009-02-11', '2009-03-11', '2009-04-08', '2009-06-03', '2009-12-16', '2010-03-03', '2010-03-31', '2010-04-28', '2010-05-26', '2010-08-11', '2010-09-15', '2010-11-17', '2010-12-15', '2011-01-12', '2011-06-29', '2011-07-27', '2011-08-24', '2011-12-21', '2012-01-18', '2012-02-15', '2012-04-11', '2012-06-06', '2012-08-08', '2012-09-05', '2012-11-07', '2012-12-19', '2013-01-17', '2013-02-14', '2013-06-06', '2013-11-28', '2014-01-16', '2014-06-05', '2014-08-14', '2015-03-12', '2015-07-09', '2015-09-03', '2015-11-05', '2015-12-03', '2016-02-04', '2016-06-02', '2017-03-09', '2017-05-04', '2017-06-01', '2017-07-06', '2018-01-18', '2018-06-07']\n",
            "172\n"
          ],
          "name": "stdout"
        }
      ]
    },
    {
      "cell_type": "markdown",
      "metadata": {
        "id": "JpP9LTutTrmX",
        "colab_type": "text"
      },
      "source": [
        "Meaning we are working with dataset as from 1993 to 2018"
      ]
    },
    {
      "cell_type": "code",
      "metadata": {
        "id": "ZjUANWo3Qu1m",
        "colab_type": "code",
        "colab": {}
      },
      "source": [
        "# Renaming the two columns for easier merging with the results datsets\n",
        "\n",
        "r.rename(columns = {\"country_full\":\"country\",\"rank_date\":\"date\"},inplace=True)\n",
        "r.columns"
      ],
      "execution_count": 0,
      "outputs": []
    },
    {
      "cell_type": "code",
      "metadata": {
        "id": "t2vI0zZtEL84",
        "colab_type": "code",
        "outputId": "1db9ccc9-3e4b-44eb-f315-fc96b5291649",
        "colab": {
          "base_uri": "https://localhost:8080/",
          "height": 333
        }
      },
      "source": [
        "# Merging the datasets using both the dates and country columns\n",
        "\n",
        "df=pd.merge(r,res,on = [\"date\",\"country\"])\n",
        "\n",
        "# Previewing the merged dataset\n",
        "df.head()\n",
        " "
      ],
      "execution_count": 0,
      "outputs": [
        {
          "output_type": "execute_result",
          "data": {
            "text/html": [
              "<div>\n",
              "<style scoped>\n",
              "    .dataframe tbody tr th:only-of-type {\n",
              "        vertical-align: middle;\n",
              "    }\n",
              "\n",
              "    .dataframe tbody tr th {\n",
              "        vertical-align: top;\n",
              "    }\n",
              "\n",
              "    .dataframe thead th {\n",
              "        text-align: right;\n",
              "    }\n",
              "</style>\n",
              "<table border=\"1\" class=\"dataframe\">\n",
              "  <thead>\n",
              "    <tr style=\"text-align: right;\">\n",
              "      <th></th>\n",
              "      <th>rank</th>\n",
              "      <th>country</th>\n",
              "      <th>country_abrv</th>\n",
              "      <th>total_points</th>\n",
              "      <th>previous_points</th>\n",
              "      <th>rank_change</th>\n",
              "      <th>cur_year_avg</th>\n",
              "      <th>cur_year_avg_weighted</th>\n",
              "      <th>last_year_avg</th>\n",
              "      <th>last_year_avg_weighted</th>\n",
              "      <th>two_year_ago_avg</th>\n",
              "      <th>two_year_ago_weighted</th>\n",
              "      <th>three_year_ago_avg</th>\n",
              "      <th>three_year_ago_weighted</th>\n",
              "      <th>confederation</th>\n",
              "      <th>date</th>\n",
              "      <th>home_team</th>\n",
              "      <th>away_team</th>\n",
              "      <th>home_score</th>\n",
              "      <th>away_score</th>\n",
              "      <th>tournament</th>\n",
              "      <th>city</th>\n",
              "      <th>neutral</th>\n",
              "    </tr>\n",
              "  </thead>\n",
              "  <tbody>\n",
              "    <tr>\n",
              "      <th>0</th>\n",
              "      <td>8</td>\n",
              "      <td>Brazil</td>\n",
              "      <td>BRA</td>\n",
              "      <td>0.0</td>\n",
              "      <td>55</td>\n",
              "      <td>-5</td>\n",
              "      <td>0.0</td>\n",
              "      <td>0.0</td>\n",
              "      <td>0.0</td>\n",
              "      <td>0.0</td>\n",
              "      <td>0.0</td>\n",
              "      <td>0.0</td>\n",
              "      <td>0.0</td>\n",
              "      <td>0.0</td>\n",
              "      <td>CONMEBOL</td>\n",
              "      <td>1993-08-08</td>\n",
              "      <td>Brazil</td>\n",
              "      <td>Mexico</td>\n",
              "      <td>1</td>\n",
              "      <td>1</td>\n",
              "      <td>Friendly</td>\n",
              "      <td>Maceió</td>\n",
              "      <td>False</td>\n",
              "    </tr>\n",
              "    <tr>\n",
              "      <th>1</th>\n",
              "      <td>35</td>\n",
              "      <td>Ecuador</td>\n",
              "      <td>ECU</td>\n",
              "      <td>0.0</td>\n",
              "      <td>23</td>\n",
              "      <td>30</td>\n",
              "      <td>0.0</td>\n",
              "      <td>0.0</td>\n",
              "      <td>0.0</td>\n",
              "      <td>0.0</td>\n",
              "      <td>0.0</td>\n",
              "      <td>0.0</td>\n",
              "      <td>0.0</td>\n",
              "      <td>0.0</td>\n",
              "      <td>CONMEBOL</td>\n",
              "      <td>1993-08-08</td>\n",
              "      <td>Ecuador</td>\n",
              "      <td>Venezuela</td>\n",
              "      <td>5</td>\n",
              "      <td>0</td>\n",
              "      <td>FIFA World Cup qualification</td>\n",
              "      <td>Quito</td>\n",
              "      <td>False</td>\n",
              "    </tr>\n",
              "    <tr>\n",
              "      <th>2</th>\n",
              "      <td>50</td>\n",
              "      <td>Zimbabwe</td>\n",
              "      <td>ZIM</td>\n",
              "      <td>0.0</td>\n",
              "      <td>27</td>\n",
              "      <td>4</td>\n",
              "      <td>0.0</td>\n",
              "      <td>0.0</td>\n",
              "      <td>0.0</td>\n",
              "      <td>0.0</td>\n",
              "      <td>0.0</td>\n",
              "      <td>0.0</td>\n",
              "      <td>0.0</td>\n",
              "      <td>0.0</td>\n",
              "      <td>CAF</td>\n",
              "      <td>1993-08-08</td>\n",
              "      <td>Zimbabwe</td>\n",
              "      <td>Eswatini</td>\n",
              "      <td>2</td>\n",
              "      <td>0</td>\n",
              "      <td>Friendly</td>\n",
              "      <td>Harare</td>\n",
              "      <td>False</td>\n",
              "    </tr>\n",
              "    <tr>\n",
              "      <th>3</th>\n",
              "      <td>59</td>\n",
              "      <td>Bolivia</td>\n",
              "      <td>BOL</td>\n",
              "      <td>0.0</td>\n",
              "      <td>13</td>\n",
              "      <td>28</td>\n",
              "      <td>0.0</td>\n",
              "      <td>0.0</td>\n",
              "      <td>0.0</td>\n",
              "      <td>0.0</td>\n",
              "      <td>0.0</td>\n",
              "      <td>0.0</td>\n",
              "      <td>0.0</td>\n",
              "      <td>0.0</td>\n",
              "      <td>CONMEBOL</td>\n",
              "      <td>1993-08-08</td>\n",
              "      <td>Bolivia</td>\n",
              "      <td>Uruguay</td>\n",
              "      <td>3</td>\n",
              "      <td>1</td>\n",
              "      <td>FIFA World Cup qualification</td>\n",
              "      <td>La Paz</td>\n",
              "      <td>False</td>\n",
              "    </tr>\n",
              "    <tr>\n",
              "      <th>4</th>\n",
              "      <td>65</td>\n",
              "      <td>Guinea</td>\n",
              "      <td>GUI</td>\n",
              "      <td>0.0</td>\n",
              "      <td>23</td>\n",
              "      <td>-2</td>\n",
              "      <td>0.0</td>\n",
              "      <td>0.0</td>\n",
              "      <td>0.0</td>\n",
              "      <td>0.0</td>\n",
              "      <td>0.0</td>\n",
              "      <td>0.0</td>\n",
              "      <td>0.0</td>\n",
              "      <td>0.0</td>\n",
              "      <td>CAF</td>\n",
              "      <td>1993-08-08</td>\n",
              "      <td>Guinea</td>\n",
              "      <td>Sierra Leone</td>\n",
              "      <td>1</td>\n",
              "      <td>0</td>\n",
              "      <td>Friendly</td>\n",
              "      <td>Conakry</td>\n",
              "      <td>False</td>\n",
              "    </tr>\n",
              "  </tbody>\n",
              "</table>\n",
              "</div>"
            ],
            "text/plain": [
              "   rank   country country_abrv  ...                    tournament     city  neutral\n",
              "0     8    Brazil          BRA  ...                      Friendly   Maceió    False\n",
              "1    35   Ecuador          ECU  ...  FIFA World Cup qualification    Quito    False\n",
              "2    50  Zimbabwe          ZIM  ...                      Friendly   Harare    False\n",
              "3    59   Bolivia          BOL  ...  FIFA World Cup qualification   La Paz    False\n",
              "4    65    Guinea          GUI  ...                      Friendly  Conakry    False\n",
              "\n",
              "[5 rows x 23 columns]"
            ]
          },
          "metadata": {
            "tags": []
          },
          "execution_count": 321
        }
      ]
    },
    {
      "cell_type": "code",
      "metadata": {
        "id": "77kmrebmnsaa",
        "colab_type": "code",
        "outputId": "8282e24e-a0d0-486b-b49a-3fb993a2d50d",
        "colab": {
          "base_uri": "https://localhost:8080/",
          "height": 487
        }
      },
      "source": [
        "# Getting the information of the merged datasets\n",
        "\n",
        "df.info()"
      ],
      "execution_count": 0,
      "outputs": [
        {
          "output_type": "stream",
          "text": [
            "<class 'pandas.core.frame.DataFrame'>\n",
            "Int64Index: 950 entries, 0 to 949\n",
            "Data columns (total 23 columns):\n",
            "rank                       950 non-null int64\n",
            "country                    950 non-null object\n",
            "country_abrv               950 non-null object\n",
            "total_points               950 non-null float64\n",
            "previous_points            950 non-null int64\n",
            "rank_change                950 non-null int64\n",
            "cur_year_avg               950 non-null float64\n",
            "cur_year_avg_weighted      950 non-null float64\n",
            "last_year_avg              950 non-null float64\n",
            "last_year_avg_weighted     950 non-null float64\n",
            "two_year_ago_avg           950 non-null float64\n",
            "two_year_ago_weighted      950 non-null float64\n",
            "three_year_ago_avg         950 non-null float64\n",
            "three_year_ago_weighted    950 non-null float64\n",
            "confederation              950 non-null object\n",
            "date                       950 non-null object\n",
            "home_team                  950 non-null object\n",
            "away_team                  950 non-null object\n",
            "home_score                 950 non-null int64\n",
            "away_score                 950 non-null int64\n",
            "tournament                 950 non-null object\n",
            "city                       950 non-null object\n",
            "neutral                    950 non-null bool\n",
            "dtypes: bool(1), float64(9), int64(5), object(8)\n",
            "memory usage: 171.6+ KB\n"
          ],
          "name": "stdout"
        }
      ]
    },
    {
      "cell_type": "code",
      "metadata": {
        "id": "97_xKXD3nsWn",
        "colab_type": "code",
        "outputId": "bd0cc99f-ffde-4caf-ea0b-ac79019cdeac",
        "colab": {
          "base_uri": "https://localhost:8080/",
          "height": 304
        }
      },
      "source": [
        "# Getting the statistical information of the merged dataset\n",
        "df.describe()"
      ],
      "execution_count": 0,
      "outputs": [
        {
          "output_type": "execute_result",
          "data": {
            "text/html": [
              "<div>\n",
              "<style scoped>\n",
              "    .dataframe tbody tr th:only-of-type {\n",
              "        vertical-align: middle;\n",
              "    }\n",
              "\n",
              "    .dataframe tbody tr th {\n",
              "        vertical-align: top;\n",
              "    }\n",
              "\n",
              "    .dataframe thead th {\n",
              "        text-align: right;\n",
              "    }\n",
              "</style>\n",
              "<table border=\"1\" class=\"dataframe\">\n",
              "  <thead>\n",
              "    <tr style=\"text-align: right;\">\n",
              "      <th></th>\n",
              "      <th>rank</th>\n",
              "      <th>total_points</th>\n",
              "      <th>previous_points</th>\n",
              "      <th>rank_change</th>\n",
              "      <th>cur_year_avg</th>\n",
              "      <th>cur_year_avg_weighted</th>\n",
              "      <th>last_year_avg</th>\n",
              "      <th>last_year_avg_weighted</th>\n",
              "      <th>two_year_ago_avg</th>\n",
              "      <th>two_year_ago_weighted</th>\n",
              "      <th>three_year_ago_avg</th>\n",
              "      <th>three_year_ago_weighted</th>\n",
              "      <th>home_score</th>\n",
              "      <th>away_score</th>\n",
              "    </tr>\n",
              "  </thead>\n",
              "  <tbody>\n",
              "    <tr>\n",
              "      <th>count</th>\n",
              "      <td>950.000000</td>\n",
              "      <td>950.000000</td>\n",
              "      <td>950.000000</td>\n",
              "      <td>950.000000</td>\n",
              "      <td>950.000000</td>\n",
              "      <td>950.000000</td>\n",
              "      <td>950.000000</td>\n",
              "      <td>950.000000</td>\n",
              "      <td>950.000000</td>\n",
              "      <td>950.000000</td>\n",
              "      <td>950.000000</td>\n",
              "      <td>950.000000</td>\n",
              "      <td>950.000000</td>\n",
              "      <td>950.000000</td>\n",
              "    </tr>\n",
              "    <tr>\n",
              "      <th>mean</th>\n",
              "      <td>64.905263</td>\n",
              "      <td>52.182116</td>\n",
              "      <td>474.214737</td>\n",
              "      <td>-0.116842</td>\n",
              "      <td>26.510495</td>\n",
              "      <td>26.510495</td>\n",
              "      <td>25.184116</td>\n",
              "      <td>12.592032</td>\n",
              "      <td>26.657200</td>\n",
              "      <td>7.997221</td>\n",
              "      <td>25.412653</td>\n",
              "      <td>5.082516</td>\n",
              "      <td>1.657895</td>\n",
              "      <td>1.042105</td>\n",
              "    </tr>\n",
              "    <tr>\n",
              "      <th>std</th>\n",
              "      <td>48.075168</td>\n",
              "      <td>190.135933</td>\n",
              "      <td>318.043068</td>\n",
              "      <td>4.420952</td>\n",
              "      <td>97.787086</td>\n",
              "      <td>97.787086</td>\n",
              "      <td>99.671465</td>\n",
              "      <td>49.835482</td>\n",
              "      <td>100.257323</td>\n",
              "      <td>30.077366</td>\n",
              "      <td>94.555624</td>\n",
              "      <td>18.911083</td>\n",
              "      <td>1.918743</td>\n",
              "      <td>1.234521</td>\n",
              "    </tr>\n",
              "    <tr>\n",
              "      <th>min</th>\n",
              "      <td>1.000000</td>\n",
              "      <td>0.000000</td>\n",
              "      <td>0.000000</td>\n",
              "      <td>-22.000000</td>\n",
              "      <td>0.000000</td>\n",
              "      <td>0.000000</td>\n",
              "      <td>0.000000</td>\n",
              "      <td>0.000000</td>\n",
              "      <td>0.000000</td>\n",
              "      <td>0.000000</td>\n",
              "      <td>0.000000</td>\n",
              "      <td>0.000000</td>\n",
              "      <td>0.000000</td>\n",
              "      <td>0.000000</td>\n",
              "    </tr>\n",
              "    <tr>\n",
              "      <th>25%</th>\n",
              "      <td>24.000000</td>\n",
              "      <td>0.000000</td>\n",
              "      <td>233.500000</td>\n",
              "      <td>-2.000000</td>\n",
              "      <td>0.000000</td>\n",
              "      <td>0.000000</td>\n",
              "      <td>0.000000</td>\n",
              "      <td>0.000000</td>\n",
              "      <td>0.000000</td>\n",
              "      <td>0.000000</td>\n",
              "      <td>0.000000</td>\n",
              "      <td>0.000000</td>\n",
              "      <td>0.000000</td>\n",
              "      <td>0.000000</td>\n",
              "    </tr>\n",
              "    <tr>\n",
              "      <th>50%</th>\n",
              "      <td>56.000000</td>\n",
              "      <td>0.000000</td>\n",
              "      <td>484.000000</td>\n",
              "      <td>0.000000</td>\n",
              "      <td>0.000000</td>\n",
              "      <td>0.000000</td>\n",
              "      <td>0.000000</td>\n",
              "      <td>0.000000</td>\n",
              "      <td>0.000000</td>\n",
              "      <td>0.000000</td>\n",
              "      <td>0.000000</td>\n",
              "      <td>0.000000</td>\n",
              "      <td>1.000000</td>\n",
              "      <td>1.000000</td>\n",
              "    </tr>\n",
              "    <tr>\n",
              "      <th>75%</th>\n",
              "      <td>96.000000</td>\n",
              "      <td>0.000000</td>\n",
              "      <td>662.500000</td>\n",
              "      <td>1.000000</td>\n",
              "      <td>0.000000</td>\n",
              "      <td>0.000000</td>\n",
              "      <td>0.000000</td>\n",
              "      <td>0.000000</td>\n",
              "      <td>0.000000</td>\n",
              "      <td>0.000000</td>\n",
              "      <td>0.000000</td>\n",
              "      <td>0.000000</td>\n",
              "      <td>2.000000</td>\n",
              "      <td>2.000000</td>\n",
              "    </tr>\n",
              "    <tr>\n",
              "      <th>max</th>\n",
              "      <td>201.000000</td>\n",
              "      <td>1332.160000</td>\n",
              "      <td>1683.000000</td>\n",
              "      <td>30.000000</td>\n",
              "      <td>855.300000</td>\n",
              "      <td>855.300000</td>\n",
              "      <td>1008.940000</td>\n",
              "      <td>504.470000</td>\n",
              "      <td>748.610000</td>\n",
              "      <td>224.580000</td>\n",
              "      <td>640.010000</td>\n",
              "      <td>128.000000</td>\n",
              "      <td>31.000000</td>\n",
              "      <td>12.000000</td>\n",
              "    </tr>\n",
              "  </tbody>\n",
              "</table>\n",
              "</div>"
            ],
            "text/plain": [
              "             rank  total_points  ...  home_score  away_score\n",
              "count  950.000000    950.000000  ...  950.000000  950.000000\n",
              "mean    64.905263     52.182116  ...    1.657895    1.042105\n",
              "std     48.075168    190.135933  ...    1.918743    1.234521\n",
              "min      1.000000      0.000000  ...    0.000000    0.000000\n",
              "25%     24.000000      0.000000  ...    0.000000    0.000000\n",
              "50%     56.000000      0.000000  ...    1.000000    1.000000\n",
              "75%     96.000000      0.000000  ...    2.000000    2.000000\n",
              "max    201.000000   1332.160000  ...   31.000000   12.000000\n",
              "\n",
              "[8 rows x 14 columns]"
            ]
          },
          "metadata": {
            "tags": []
          },
          "execution_count": 323
        }
      ]
    },
    {
      "cell_type": "code",
      "metadata": {
        "id": "wJoDmdv0nsTq",
        "colab_type": "code",
        "outputId": "396aa2f7-b9dc-44e5-8db1-8acb9757948a",
        "colab": {
          "base_uri": "https://localhost:8080/",
          "height": 34
        }
      },
      "source": [
        "# checking the rows and columns of the merged datasets\n",
        "\n",
        "df.shape"
      ],
      "execution_count": 0,
      "outputs": [
        {
          "output_type": "execute_result",
          "data": {
            "text/plain": [
              "(950, 23)"
            ]
          },
          "metadata": {
            "tags": []
          },
          "execution_count": 324
        }
      ]
    },
    {
      "cell_type": "code",
      "metadata": {
        "id": "4OKgZLzWmgti",
        "colab_type": "code",
        "outputId": "7cd9178a-5222-495e-e296-50b0743377fd",
        "colab": {
          "base_uri": "https://localhost:8080/",
          "height": 134
        }
      },
      "source": [
        "# Getting the names of the columns in the merged dataset\n",
        "\n",
        "df.columns"
      ],
      "execution_count": 0,
      "outputs": [
        {
          "output_type": "execute_result",
          "data": {
            "text/plain": [
              "Index(['rank', 'country', 'country_abrv', 'total_points', 'previous_points',\n",
              "       'rank_change', 'cur_year_avg', 'cur_year_avg_weighted', 'last_year_avg',\n",
              "       'last_year_avg_weighted', 'two_year_ago_avg', 'two_year_ago_weighted',\n",
              "       'three_year_ago_avg', 'three_year_ago_weighted', 'confederation',\n",
              "       'date', 'home_team', 'away_team', 'home_score', 'away_score',\n",
              "       'tournament', 'city', 'neutral'],\n",
              "      dtype='object')"
            ]
          },
          "metadata": {
            "tags": []
          },
          "execution_count": 325
        }
      ]
    },
    {
      "cell_type": "code",
      "metadata": {
        "id": "jMOXRbY2-U-z",
        "colab_type": "code",
        "outputId": "5b8fb019-627e-4f30-bdf2-e39bb55bd6a6",
        "colab": {
          "base_uri": "https://localhost:8080/",
          "height": 287
        }
      },
      "source": [
        "# checking for outlers of homescore\n",
        "\n",
        "df['home_score'].plot(kind = 'box')"
      ],
      "execution_count": 0,
      "outputs": [
        {
          "output_type": "execute_result",
          "data": {
            "text/plain": [
              "<matplotlib.axes._subplots.AxesSubplot at 0x7f204189fb70>"
            ]
          },
          "metadata": {
            "tags": []
          },
          "execution_count": 336
        },
        {
          "output_type": "display_data",
          "data": {
            "image/png": "[encoded data removed]",
            "text/plain": [
              "<Figure size 432x288 with 1 Axes>"
            ]
          },
          "metadata": {
            "tags": []
          }
        }
      ]
    },
    {
      "cell_type": "markdown",
      "metadata": {
        "id": "KWWta3kPU3kd",
        "colab_type": "text"
      },
      "source": [
        "goals past 5 is outliers"
      ]
    },
    {
      "cell_type": "code",
      "metadata": {
        "id": "PnIuADxFKPBn",
        "colab_type": "code",
        "outputId": "bedf05ff-66a7-452e-8c19-68b80a5e1022",
        "colab": {
          "base_uri": "https://localhost:8080/",
          "height": 286
        }
      },
      "source": [
        "# checking for outlers\n",
        "df['away_score'].plot(kind = 'box')"
      ],
      "execution_count": 0,
      "outputs": [
        {
          "output_type": "execute_result",
          "data": {
            "text/plain": [
              "<matplotlib.axes._subplots.AxesSubplot at 0x7f20415936a0>"
            ]
          },
          "metadata": {
            "tags": []
          },
          "execution_count": 337
        },
        {
          "output_type": "display_data",
          "data": {
            "image/png": "[encoded data removed]",
            "text/plain": [
              "<Figure size 432x288 with 1 Axes>"
            ]
          },
          "metadata": {
            "tags": []
          }
        }
      ]
    },
    {
      "cell_type": "markdown",
      "metadata": {
        "id": "J3GMaHiKU-kS",
        "colab_type": "text"
      },
      "source": [
        "Goals past 6 are outliers"
      ]
    },
    {
      "cell_type": "markdown",
      "metadata": {
        "id": "wlPp0V0JVDJh",
        "colab_type": "text"
      },
      "source": [
        "I shall preserve the outliers tho ascertain the reason as to why outliers exist\n",
        "\n"
      ]
    },
    {
      "cell_type": "code",
      "metadata": {
        "id": "fEIlyE1IVcAm",
        "colab_type": "code",
        "colab": {}
      },
      "source": [
        "# Dropping unnecesary columns\n",
        "df.drop(['cur_year_avg', 'cur_year_avg_weighted', 'last_year_avg',\n",
        "       'last_year_avg_weighted', 'two_year_ago_avg', 'two_year_ago_weighted',\n",
        "       'three_year_ago_avg', 'three_year_ago_weighted'],axis=1,inplace=True)"
      ],
      "execution_count": 0,
      "outputs": []
    },
    {
      "cell_type": "markdown",
      "metadata": {
        "id": "udEvLNCMkdce",
        "colab_type": "text"
      },
      "source": [
        "## Visualization and Analysis"
      ]
    },
    {
      "cell_type": "code",
      "metadata": {
        "id": "fO-EQ0fo7ua5",
        "colab_type": "code",
        "outputId": "f5da75bb-6c80-4949-9ef7-3b2211c8eb19",
        "colab": {
          "base_uri": "https://localhost:8080/",
          "height": 301
        }
      },
      "source": [
        "# checking correlation between the rank and away score using  a scatter plot\n",
        "\n",
        "plt.scatter(df['rank'],df['away_score'])\n",
        "plt.xlabel(\"Rank\",fontsize=14)\n",
        "plt.ylabel(\"Awat team Scores\",fontsize=14)\n",
        "plt.title(\"Rank of Away teams\",fontsize=15,color=\"green\")\n",
        "plt.show()"
      ],
      "execution_count": 369,
      "outputs": [
        {
          "output_type": "display_data",
          "data": {
            "image/png": "[encoded data removed]",
            "text/plain": [
              "<Figure size 432x288 with 1 Axes>"
            ]
          },
          "metadata": {
            "tags": []
          }
        }
      ]
    },
    {
      "cell_type": "markdown",
      "metadata": {
        "id": "EJ0YMZ1WYYA5",
        "colab_type": "text"
      },
      "source": [
        "There is no evident relationship between rank and away teams"
      ]
    },
    {
      "cell_type": "code",
      "metadata": {
        "id": "lQXT1kyU8E9B",
        "colab_type": "code",
        "outputId": "dc592243-1d1b-40ed-95d5-f9c68c0e8103",
        "colab": {
          "base_uri": "https://localhost:8080/",
          "height": 301
        }
      },
      "source": [
        "# Checking the relationship between rank and Home teams using a scatter plot\n",
        "\n",
        "plt.scatter(df['rank'],df['home_score'])\n",
        "plt.xlabel(\"Rank\",fontsize=14)\n",
        "plt.ylabel(\"Home team Scores\",fontsize=14)\n",
        "plt.title(\"Rank of Home teams\",fontsize=15,color=\"green\")\n",
        "plt.show()"
      ],
      "execution_count": 370,
      "outputs": [
        {
          "output_type": "display_data",
          "data": {
            "image/png": "[encoded data removed]",
            "text/plain": [
              "<Figure size 432x288 with 1 Axes>"
            ]
          },
          "metadata": {
            "tags": []
          }
        }
      ]
    },
    {
      "cell_type": "markdown",
      "metadata": {
        "id": "02BbimtPYp-G",
        "colab_type": "text"
      },
      "source": [
        "There is no evident relationship between rank and home team"
      ]
    },
    {
      "cell_type": "code",
      "metadata": {
        "id": "cINGkWh3nsOK",
        "colab_type": "code",
        "outputId": "cd81d9fd-8fa4-4549-c0da-0050236dfce1",
        "colab": {
          "base_uri": "https://localhost:8080/",
          "height": 269
        }
      },
      "source": [
        "# Checking the tournament in the dataset\n",
        "\n",
        "print(df.tournament.nunique())\n",
        "print(df.tournament.unique())"
      ],
      "execution_count": 0,
      "outputs": [
        {
          "output_type": "stream",
          "text": [
            "36\n",
            "['Friendly' 'FIFA World Cup qualification' 'Merdeka Tournament'\n",
            " 'CFU Caribbean Cup' 'African Cup of Nations'\n",
            " 'AFC Asian Cup qualification' 'CFU Caribbean Cup qualification'\n",
            " 'Copa América' 'UEFA Euro qualification'\n",
            " 'United Arab Emirates Friendship Tournament' 'UNCAF Cup' 'Millennium Cup'\n",
            " \"King's Cup\" 'Windward Islands Tournament' 'Gulf Cup'\n",
            " 'Cyprus International Tournament' 'Malta International Tournament'\n",
            " 'Gold Cup qualification' 'UAFA Cup' 'AFF Championship' 'SAFF Cup'\n",
            " \"Prime Minister's Cup\" 'Confederations Cup' 'AFC Asian Cup' 'Nehru Cup'\n",
            " 'COSAFA Cup' 'CECAFA Cup' 'EAFF Championship'\n",
            " 'AFC Challenge Cup qualification' 'African Cup of Nations qualification'\n",
            " 'Copa del Pacífico' 'Viva World Cup' 'Oceania Nations Cup'\n",
            " 'African Nations Championship' 'CONIFA World Football Cup'\n",
            " 'Intercontinental Cup']\n"
          ],
          "name": "stdout"
        }
      ]
    },
    {
      "cell_type": "code",
      "metadata": {
        "id": "SB1ll8V18VvQ",
        "colab_type": "code",
        "outputId": "4c9ad3f8-8d66-4e80-c881-53dcc809621d",
        "colab": {
          "base_uri": "https://localhost:8080/",
          "height": 518
        }
      },
      "source": [
        "# Plotting the bar plots of rank against the tournament\n",
        "\n",
        "plt.bar(df['tournament'],df['rank'].sort_values(ascending=False))\n",
        "plt.xlabel(\"tournament\",fontsize=14)\n",
        "plt.ylabel(\"Rank\",fontsize=14)\n",
        "plt.title(\"Barplots of the tournament\",fontsize=15,color=\"green\")\n",
        "plt.xticks(rotation=90)\n",
        "\n",
        "plt.show()"
      ],
      "execution_count": 372,
      "outputs": [
        {
          "output_type": "display_data",
          "data": {
            "image/png": "[encoded data removed]",
            "text/plain": [
              "<Figure size 432x288 with 1 Axes>"
            ]
          },
          "metadata": {
            "tags": []
          }
        }
      ]
    },
    {
      "cell_type": "code",
      "metadata": {
        "id": "yAuaGR-B3RWr",
        "colab_type": "code",
        "outputId": "4402ff62-4593-4306-aa1a-4f8436b73923",
        "colab": {
          "base_uri": "https://localhost:8080/",
          "height": 420
        }
      },
      "source": [
        "# Changing the categorical data fro data type object to category\n",
        "\n",
        "df[['tournament', 'city','country','home_team', 'away_team','confederation']] = df[['tournament', 'city','country','home_team', 'away_team','confederation']].astype('category')\n",
        "df.dtypes"
      ],
      "execution_count": 0,
      "outputs": [
        {
          "output_type": "execute_result",
          "data": {
            "text/plain": [
              "rank                          int64\n",
              "country                    category\n",
              "country_abrv                 object\n",
              "total_points                float64\n",
              "previous_points               int64\n",
              "rank_change                   int64\n",
              "cur_year_avg                float64\n",
              "cur_year_avg_weighted       float64\n",
              "last_year_avg               float64\n",
              "last_year_avg_weighted      float64\n",
              "two_year_ago_avg            float64\n",
              "two_year_ago_weighted       float64\n",
              "three_year_ago_avg          float64\n",
              "three_year_ago_weighted     float64\n",
              "confederation              category\n",
              "date                         object\n",
              "home_team                  category\n",
              "away_team                  category\n",
              "home_score                    int64\n",
              "away_score                    int64\n",
              "tournament                 category\n",
              "city                       category\n",
              "neutral                        bool\n",
              "dtype: object"
            ]
          },
          "metadata": {
            "tags": []
          },
          "execution_count": 217
        }
      ]
    },
    {
      "cell_type": "code",
      "metadata": {
        "id": "pwoq78bbOv5e",
        "colab_type": "code",
        "outputId": "3b51719e-3c69-4532-b28b-2cfdbc6d4e87",
        "colab": {
          "base_uri": "https://localhost:8080/",
          "height": 34
        }
      },
      "source": [
        "# Changing the data type of date from object to datetime\n",
        "\n",
        "df['date'] = pd.to_datetime(df['date'])\n",
        "df['date'].dtype"
      ],
      "execution_count": 0,
      "outputs": [
        {
          "output_type": "execute_result",
          "data": {
            "text/plain": [
              "dtype('<M8[ns]')"
            ]
          },
          "metadata": {
            "tags": []
          },
          "execution_count": 218
        }
      ]
    },
    {
      "cell_type": "code",
      "metadata": {
        "id": "iPglZEwjKoqS",
        "colab_type": "code",
        "outputId": "10e9a2d4-f15f-47b6-9fcc-4244c5412d70",
        "colab": {
          "base_uri": "https://localhost:8080/",
          "height": 215
        }
      },
      "source": [
        "# Changing categorical variable to integer for easier modelling label encoder\n",
        "\n",
        "cat = ['tournament', 'city','country','home_team', 'away_team','confederation','neutral','date']\n",
        "for i in cat:\n",
        "  \n",
        "  le = LabelEncoder()\n",
        "  df[i] = le.fit_transform(df[i])\n",
        "df.head()"
      ],
      "execution_count": 378,
      "outputs": [
        {
          "output_type": "execute_result",
          "data": {
            "text/html": [
              "<div>\n",
              "<style scoped>\n",
              "    .dataframe tbody tr th:only-of-type {\n",
              "        vertical-align: middle;\n",
              "    }\n",
              "\n",
              "    .dataframe tbody tr th {\n",
              "        vertical-align: top;\n",
              "    }\n",
              "\n",
              "    .dataframe thead th {\n",
              "        text-align: right;\n",
              "    }\n",
              "</style>\n",
              "<table border=\"1\" class=\"dataframe\">\n",
              "  <thead>\n",
              "    <tr style=\"text-align: right;\">\n",
              "      <th></th>\n",
              "      <th>rank</th>\n",
              "      <th>country</th>\n",
              "      <th>country_abrv</th>\n",
              "      <th>total_points</th>\n",
              "      <th>previous_points</th>\n",
              "      <th>rank_change</th>\n",
              "      <th>confederation</th>\n",
              "      <th>date</th>\n",
              "      <th>home_team</th>\n",
              "      <th>away_team</th>\n",
              "      <th>home_score</th>\n",
              "      <th>away_score</th>\n",
              "      <th>tournament</th>\n",
              "      <th>city</th>\n",
              "      <th>neutral</th>\n",
              "    </tr>\n",
              "  </thead>\n",
              "  <tbody>\n",
              "    <tr>\n",
              "      <th>0</th>\n",
              "      <td>8</td>\n",
              "      <td>22</td>\n",
              "      <td>BRA</td>\n",
              "      <td>0.0</td>\n",
              "      <td>55</td>\n",
              "      <td>-5</td>\n",
              "      <td>3</td>\n",
              "      <td>0</td>\n",
              "      <td>26</td>\n",
              "      <td>106</td>\n",
              "      <td>1</td>\n",
              "      <td>1</td>\n",
              "      <td>18</td>\n",
              "      <td>201</td>\n",
              "      <td>0</td>\n",
              "    </tr>\n",
              "    <tr>\n",
              "      <th>1</th>\n",
              "      <td>35</td>\n",
              "      <td>38</td>\n",
              "      <td>ECU</td>\n",
              "      <td>0.0</td>\n",
              "      <td>23</td>\n",
              "      <td>30</td>\n",
              "      <td>3</td>\n",
              "      <td>0</td>\n",
              "      <td>50</td>\n",
              "      <td>188</td>\n",
              "      <td>5</td>\n",
              "      <td>0</td>\n",
              "      <td>17</td>\n",
              "      <td>291</td>\n",
              "      <td>0</td>\n",
              "    </tr>\n",
              "    <tr>\n",
              "      <th>2</th>\n",
              "      <td>50</td>\n",
              "      <td>155</td>\n",
              "      <td>ZIM</td>\n",
              "      <td>0.0</td>\n",
              "      <td>27</td>\n",
              "      <td>4</td>\n",
              "      <td>1</td>\n",
              "      <td>0</td>\n",
              "      <td>188</td>\n",
              "      <td>57</td>\n",
              "      <td>2</td>\n",
              "      <td>0</td>\n",
              "      <td>18</td>\n",
              "      <td>127</td>\n",
              "      <td>0</td>\n",
              "    </tr>\n",
              "    <tr>\n",
              "      <th>3</th>\n",
              "      <td>59</td>\n",
              "      <td>19</td>\n",
              "      <td>BOL</td>\n",
              "      <td>0.0</td>\n",
              "      <td>13</td>\n",
              "      <td>28</td>\n",
              "      <td>3</td>\n",
              "      <td>0</td>\n",
              "      <td>23</td>\n",
              "      <td>185</td>\n",
              "      <td>3</td>\n",
              "      <td>1</td>\n",
              "      <td>17</td>\n",
              "      <td>175</td>\n",
              "      <td>0</td>\n",
              "    </tr>\n",
              "    <tr>\n",
              "      <th>4</th>\n",
              "      <td>65</td>\n",
              "      <td>56</td>\n",
              "      <td>GUI</td>\n",
              "      <td>0.0</td>\n",
              "      <td>23</td>\n",
              "      <td>-2</td>\n",
              "      <td>1</td>\n",
              "      <td>0</td>\n",
              "      <td>71</td>\n",
              "      <td>154</td>\n",
              "      <td>1</td>\n",
              "      <td>0</td>\n",
              "      <td>18</td>\n",
              "      <td>79</td>\n",
              "      <td>0</td>\n",
              "    </tr>\n",
              "  </tbody>\n",
              "</table>\n",
              "</div>"
            ],
            "text/plain": [
              "   rank  country country_abrv  ...  tournament  city  neutral\n",
              "0     8       22          BRA  ...          18   201        0\n",
              "1    35       38          ECU  ...          17   291        0\n",
              "2    50      155          ZIM  ...          18   127        0\n",
              "3    59       19          BOL  ...          17   175        0\n",
              "4    65       56          GUI  ...          18    79        0\n",
              "\n",
              "[5 rows x 15 columns]"
            ]
          },
          "metadata": {
            "tags": []
          },
          "execution_count": 378
        }
      ]
    },
    {
      "cell_type": "code",
      "metadata": {
        "id": "w12SHyrvMlFi",
        "colab_type": "code",
        "colab": {}
      },
      "source": [
        "# Dropping country abbreviation column\n",
        "\n",
        "df.drop('country_abrv',inplace=True,axis=1)\n",
        "df.head()"
      ],
      "execution_count": 0,
      "outputs": []
    },
    {
      "cell_type": "markdown",
      "metadata": {
        "id": "6BYFv3asWSmF",
        "colab_type": "text"
      },
      "source": [
        "## Modelling"
      ]
    },
    {
      "cell_type": "markdown",
      "metadata": {
        "id": "MdGNM6gUWXSP",
        "colab_type": "text"
      },
      "source": [
        "### Approach 1"
      ]
    },
    {
      "cell_type": "markdown",
      "metadata": {
        "id": "BtqqT9W8c4BI",
        "colab_type": "text"
      },
      "source": [
        "#### Model 1\n",
        "\n",
        "#### Predict how many goals the home team scores"
      ]
    },
    {
      "cell_type": "code",
      "metadata": {
        "id": "_fxcsxN4nsJM",
        "colab_type": "code",
        "colab": {}
      },
      "source": [
        "# Splitting the dataset into feature and target sets of home team\n",
        "\n",
        "Xh =df[['rank', 'home_team', 'away_team', 'away_score','tournament']]\n",
        "yh = df['home_score']"
      ],
      "execution_count": 0,
      "outputs": []
    },
    {
      "cell_type": "code",
      "metadata": {
        "id": "gyNLfd_b0aWo",
        "colab_type": "code",
        "colab": {
          "base_uri": "https://localhost:8080/",
          "height": 318
        },
        "outputId": "33dad711-5e1f-4e97-acdd-ecc6bb74fd21"
      },
      "source": [
        "# Finding the correlation of the independent variable\n",
        "\n",
        "corrh = Xh.corr()\n",
        "\n",
        "# showing correlation on a heatmap\n",
        "sns.heatmap(corrh,annot=True)\n",
        "plt.show()"
      ],
      "execution_count": 381,
      "outputs": [
        {
          "output_type": "display_data",
          "data": {
            "image/png": "[encoded data removed]",
            "text/plain": [
              "<Figure size 432x288 with 2 Axes>"
            ]
          },
          "metadata": {
            "tags": []
          }
        }
      ]
    },
    {
      "cell_type": "markdown",
      "metadata": {
        "id": "Ru36QjBWdcoy",
        "colab_type": "text"
      },
      "source": [
        "There is no tangible correlation between the independent variables"
      ]
    },
    {
      "cell_type": "markdown",
      "metadata": {
        "id": "n1ooP2bcdvW0",
        "colab_type": "text"
      },
      "source": [
        "##### Checking for Mutlicollinearity"
      ]
    },
    {
      "cell_type": "code",
      "metadata": {
        "id": "0S7Mdggn0I6K",
        "colab_type": "code",
        "outputId": "60ef6401-e275-4f14-db44-1fc4d640d56b",
        "colab": {
          "base_uri": "https://localhost:8080/",
          "height": 195
        }
      },
      "source": [
        "# Checking for multicollinearity\n",
        "\n",
        "mult = pd.DataFrame(np.linalg.inv(corrh.values) ,index = corrh.index ,columns = corrh.columns)\n",
        "mult"
      ],
      "execution_count": 383,
      "outputs": [
        {
          "output_type": "execute_result",
          "data": {
            "text/html": [
              "<div>\n",
              "<style scoped>\n",
              "    .dataframe tbody tr th:only-of-type {\n",
              "        vertical-align: middle;\n",
              "    }\n",
              "\n",
              "    .dataframe tbody tr th {\n",
              "        vertical-align: top;\n",
              "    }\n",
              "\n",
              "    .dataframe thead th {\n",
              "        text-align: right;\n",
              "    }\n",
              "</style>\n",
              "<table border=\"1\" class=\"dataframe\">\n",
              "  <thead>\n",
              "    <tr style=\"text-align: right;\">\n",
              "      <th></th>\n",
              "      <th>rank</th>\n",
              "      <th>home_team</th>\n",
              "      <th>away_team</th>\n",
              "      <th>away_score</th>\n",
              "      <th>tournament</th>\n",
              "    </tr>\n",
              "  </thead>\n",
              "  <tbody>\n",
              "    <tr>\n",
              "      <th>rank</th>\n",
              "      <td>1.017267</td>\n",
              "      <td>-0.016548</td>\n",
              "      <td>0.024445</td>\n",
              "      <td>-0.049796</td>\n",
              "      <td>0.118575</td>\n",
              "    </tr>\n",
              "    <tr>\n",
              "      <th>home_team</th>\n",
              "      <td>-0.016548</td>\n",
              "      <td>1.008991</td>\n",
              "      <td>-0.035276</td>\n",
              "      <td>0.069412</td>\n",
              "      <td>0.054555</td>\n",
              "    </tr>\n",
              "    <tr>\n",
              "      <th>away_team</th>\n",
              "      <td>0.024445</td>\n",
              "      <td>-0.035276</td>\n",
              "      <td>1.008414</td>\n",
              "      <td>-0.043990</td>\n",
              "      <td>0.069840</td>\n",
              "    </tr>\n",
              "    <tr>\n",
              "      <th>away_score</th>\n",
              "      <td>-0.049796</td>\n",
              "      <td>0.069412</td>\n",
              "      <td>-0.043990</td>\n",
              "      <td>1.011199</td>\n",
              "      <td>0.045063</td>\n",
              "    </tr>\n",
              "    <tr>\n",
              "      <th>tournament</th>\n",
              "      <td>0.118575</td>\n",
              "      <td>0.054555</td>\n",
              "      <td>0.069840</td>\n",
              "      <td>0.045063</td>\n",
              "      <td>1.024180</td>\n",
              "    </tr>\n",
              "  </tbody>\n",
              "</table>\n",
              "</div>"
            ],
            "text/plain": [
              "                rank  home_team  away_team  away_score  tournament\n",
              "rank        1.017267  -0.016548   0.024445   -0.049796    0.118575\n",
              "home_team  -0.016548   1.008991  -0.035276    0.069412    0.054555\n",
              "away_team   0.024445  -0.035276   1.008414   -0.043990    0.069840\n",
              "away_score -0.049796   0.069412  -0.043990    1.011199    0.045063\n",
              "tournament  0.118575   0.054555   0.069840    0.045063    1.024180"
            ]
          },
          "metadata": {
            "tags": []
          },
          "execution_count": 383
        }
      ]
    },
    {
      "cell_type": "markdown",
      "metadata": {
        "id": "hkn-ql-hk1Yj",
        "colab_type": "text"
      },
      "source": [
        "There is no multicollinearity between the varibales"
      ]
    },
    {
      "cell_type": "code",
      "metadata": {
        "id": "mkydS5OFeCyG",
        "colab_type": "code",
        "colab": {
          "base_uri": "https://localhost:8080/",
          "height": 335
        },
        "outputId": "51632860-4eb9-4a66-ebe0-6feaf20ff7fc"
      },
      "source": [
        "# Showing that there is no multicollinearity on a heatmap\n",
        "\n",
        "sns.heatmap(mult,annot=True)"
      ],
      "execution_count": 384,
      "outputs": [
        {
          "output_type": "execute_result",
          "data": {
            "text/plain": [
              "<matplotlib.axes._subplots.AxesSubplot at 0x7f204020be10>"
            ]
          },
          "metadata": {
            "tags": []
          },
          "execution_count": 384
        },
        {
          "output_type": "display_data",
          "data": {
            "image/png": "[encoded data removed]",
            "text/plain": [
              "<Figure size 432x288 with 2 Axes>"
            ]
          },
          "metadata": {
            "tags": []
          }
        }
      ]
    },
    {
      "cell_type": "code",
      "metadata": {
        "id": "xUMsB6NuR-wz",
        "colab_type": "code",
        "colab": {
          "base_uri": "https://localhost:8080/",
          "height": 202
        },
        "outputId": "32737964-2734-4a31-a477-963a0516f07e"
      },
      "source": [
        "# Using linear regression to fit and predict the model\n",
        "lr = LinearRegression()\n",
        "lr.fit(xh_train,yh_train)\n",
        "\n",
        "yh_pred = lr.predict(xh_test)\n",
        "\n",
        "#showing the predicted and the actual con currently\n",
        "comp = pd.DataFrame({\"Actual\":yh_test,\"Predicted\":yh_pred})\n",
        "\n",
        "# Showing the RMSE of the linear model\n",
        "print(\"RMSE is : \",np.sqrt(mean_squared_error(yh_test,yh_pred)))\n",
        "print(\"r2_score is : \",r2_score(yh_test,yh_pred))\n",
        "print(comp.describe())"
      ],
      "execution_count": 390,
      "outputs": [
        {
          "output_type": "stream",
          "text": [
            "RMSE is :  1.5627058121209585\n",
            "r2_score is :  0.004550701391784595\n",
            "           Actual   Predicted\n",
            "count  190.000000  190.000000\n",
            "mean     1.668421    1.664269\n",
            "std      1.570412    0.340596\n",
            "min      0.000000    0.168722\n",
            "25%      1.000000    1.447323\n",
            "50%      1.000000    1.718169\n",
            "75%      2.000000    1.900654\n",
            "max      9.000000    2.463041\n"
          ],
          "name": "stdout"
        }
      ]
    },
    {
      "cell_type": "markdown",
      "metadata": {
        "id": "BY7WAfwjg6z2",
        "colab_type": "text"
      },
      "source": [
        "The RMSE of 1.56 which is higher than 10% of mean which is 0.166,hence it is not the perfect model"
      ]
    },
    {
      "cell_type": "code",
      "metadata": {
        "id": "RpGmbXNDSAjA",
        "colab_type": "code",
        "outputId": "09142f12-210a-4e4b-8d41-e15afc85ea40",
        "colab": {
          "base_uri": "https://localhost:8080/",
          "height": 202
        }
      },
      "source": [
        "# Using polynomial regresion to fit and predict the model at degree 2\n",
        "pf =PolynomialFeatures(degree=2)\n",
        "xtr_poly = pf.fit_transform(xh_train)\n",
        "xtst_poly = pf.fit_transform(xh_test)\n",
        "\n",
        "lr = LinearRegression()\n",
        "lr.fit(xtr_poly,yh_train)\n",
        "\n",
        "yhp_pred = lr.predict(xtst_poly)\n",
        "\n",
        "#metrics of success\n",
        "print(\"RMSE : \",np.sqrt(mean_squared_error(yh_test,yhp_pred)))\n",
        "print(\"r2_score is : \",r2_score(yh_test,yhp_pred))\n",
        "comp = pd.DataFrame({\"Actual\":yh_test,\"Predicted\":yhp_pred}).head(25)\n",
        "print(comp.describe())"
      ],
      "execution_count": 391,
      "outputs": [
        {
          "output_type": "stream",
          "text": [
            "RMSE :  1.5743520063595384\n",
            "r2_score is :  -0.01034192321012406\n",
            "          Actual  Predicted\n",
            "count  25.000000  25.000000\n",
            "mean    1.600000   1.735659\n",
            "std     1.443376   0.512849\n",
            "min     0.000000   0.815903\n",
            "25%     0.000000   1.372126\n",
            "50%     1.000000   1.682435\n",
            "75%     2.000000   2.139547\n",
            "max     5.000000   3.278374\n"
          ],
          "name": "stdout"
        }
      ]
    },
    {
      "cell_type": "markdown",
      "metadata": {
        "id": "NGaV_nEshQT2",
        "colab_type": "text"
      },
      "source": [
        "The RMSE of 1.57 which is higher than 10% of mean which is 0.16,hence it is not the perfect model as well but its not so far so it can still be used for modelling"
      ]
    },
    {
      "cell_type": "code",
      "metadata": {
        "id": "eornqaT9MkZv",
        "colab_type": "code",
        "outputId": "67cfc874-4ce4-493b-c15e-e112fae0bd7a",
        "colab": {
          "base_uri": "https://localhost:8080/",
          "height": 295
        }
      },
      "source": [
        "# Bar plot visualizing the actual data predicted data\n",
        "\n",
        "comp.plot(kind='bar')"
      ],
      "execution_count": 0,
      "outputs": [
        {
          "output_type": "execute_result",
          "data": {
            "text/plain": [
              "<matplotlib.axes._subplots.AxesSubplot at 0x7f204115c908>"
            ]
          },
          "metadata": {
            "tags": []
          },
          "execution_count": 343
        },
        {
          "output_type": "display_data",
          "data": {
            "image/png": "[encoded data removed]",
            "text/plain": [
              "<Figure size 432x288 with 1 Axes>"
            ]
          },
          "metadata": {
            "tags": []
          }
        }
      ]
    },
    {
      "cell_type": "markdown",
      "metadata": {
        "id": "ZvO0N1jxhqI9",
        "colab_type": "text"
      },
      "source": [
        "The actaul and the predicted are somewhat correlated"
      ]
    },
    {
      "cell_type": "markdown",
      "metadata": {
        "id": "If6JJJSlh04v",
        "colab_type": "text"
      },
      "source": [
        "##### Bartlets test"
      ]
    },
    {
      "cell_type": "code",
      "metadata": {
        "id": "0h-jFb_O1YJD",
        "colab_type": "code",
        "outputId": "b2ddb657-f77c-4802-9534-f0dbabdfb75c",
        "colab": {
          "base_uri": "https://localhost:8080/",
          "height": 34
        }
      },
      "source": [
        "# Lets create the residual between the actual and te predicted\n",
        "residuals = np.subtract(yhp_pred, yh_test)\n",
        "\n",
        "# Let's describe our residual:\n",
        "pd.DataFrame(residuals).describe()\n",
        "\n",
        "# The mean of the residuals\n",
        "residuals.mean()"
      ],
      "execution_count": 0,
      "outputs": [
        {
          "output_type": "execute_result",
          "data": {
            "text/plain": [
              "-0.02466879824341311"
            ]
          },
          "metadata": {
            "tags": []
          },
          "execution_count": 290
        }
      ]
    },
    {
      "cell_type": "markdown",
      "metadata": {
        "id": "ibu_BysB14eC",
        "colab_type": "text"
      },
      "source": [
        "It is slightly over estimating chances by, on average, 2.4%"
      ]
    },
    {
      "cell_type": "code",
      "metadata": {
        "id": "cZayLgJ12nAu",
        "colab_type": "code",
        "outputId": "06b9606d-e48c-4eed-e1fc-244ff9bb2550",
        "colab": {
          "base_uri": "https://localhost:8080/",
          "height": 283
        }
      },
      "source": [
        "#Scatter plot between the actual and the predicted variables\n",
        "\n",
        "plt.scatter(yhp_pred, residuals, color='black')\n",
        "plt.ylabel('residual')\n",
        "plt.xlabel('fitted values')\n",
        "plt.axhline(y= residuals.mean(), color='red', linewidth=1)\n",
        "plt.show()"
      ],
      "execution_count": 392,
      "outputs": [
        {
          "output_type": "display_data",
          "data": {
            "image/png": "[encoded data removed]",
            "text/plain": [
              "<Figure size 432x288 with 1 Axes>"
            ]
          },
          "metadata": {
            "tags": []
          }
        }
      ]
    },
    {
      "cell_type": "markdown",
      "metadata": {
        "id": "l7MDyTfjiWCO",
        "colab_type": "text"
      },
      "source": [
        "The somehow have an increasing relationship between the residual and the fitted values"
      ]
    },
    {
      "cell_type": "markdown",
      "metadata": {
        "id": "E-ExHgzydM_b",
        "colab_type": "text"
      },
      "source": [
        "#### Model 2\n",
        "\n",
        "#### Predict how many goals the away team scores"
      ]
    },
    {
      "cell_type": "code",
      "metadata": {
        "id": "botLPfKkSAds",
        "colab_type": "code",
        "colab": {}
      },
      "source": [
        "# Splitting the dataset into feature and target sets of away  team\n",
        "\n",
        "Xa =df[['rank','home_team', 'away_team', 'home_score','tournament']]\n",
        "ya = df['away_score']"
      ],
      "execution_count": 0,
      "outputs": []
    },
    {
      "cell_type": "markdown",
      "metadata": {
        "id": "x0tAp7cAlyYJ",
        "colab_type": "text"
      },
      "source": [
        "##### Checking for multicollinearity"
      ]
    },
    {
      "cell_type": "code",
      "metadata": {
        "id": "msg5G3YAlkNS",
        "colab_type": "code",
        "colab": {
          "base_uri": "https://localhost:8080/",
          "height": 195
        },
        "outputId": "89fd2cf1-4961-49c7-c284-6fadbb2db1dc"
      },
      "source": [
        "# Checking for multicollinearity\n",
        "corra =Xa.corr()\n",
        "multa = pd.DataFrame(np.linalg.inv(corra.values) ,index = corra.index ,columns = corra.columns)\n",
        "multa"
      ],
      "execution_count": 404,
      "outputs": [
        {
          "output_type": "execute_result",
          "data": {
            "text/html": [
              "<div>\n",
              "<style scoped>\n",
              "    .dataframe tbody tr th:only-of-type {\n",
              "        vertical-align: middle;\n",
              "    }\n",
              "\n",
              "    .dataframe tbody tr th {\n",
              "        vertical-align: top;\n",
              "    }\n",
              "\n",
              "    .dataframe thead th {\n",
              "        text-align: right;\n",
              "    }\n",
              "</style>\n",
              "<table border=\"1\" class=\"dataframe\">\n",
              "  <thead>\n",
              "    <tr style=\"text-align: right;\">\n",
              "      <th></th>\n",
              "      <th>rank</th>\n",
              "      <th>home_team</th>\n",
              "      <th>away_team</th>\n",
              "      <th>home_score</th>\n",
              "      <th>tournament</th>\n",
              "    </tr>\n",
              "  </thead>\n",
              "  <tbody>\n",
              "    <tr>\n",
              "      <th>rank</th>\n",
              "      <td>1.015485</td>\n",
              "      <td>-0.013021</td>\n",
              "      <td>0.024572</td>\n",
              "      <td>0.026039</td>\n",
              "      <td>0.122624</td>\n",
              "    </tr>\n",
              "    <tr>\n",
              "      <th>home_team</th>\n",
              "      <td>-0.013021</td>\n",
              "      <td>1.004244</td>\n",
              "      <td>-0.031884</td>\n",
              "      <td>0.004235</td>\n",
              "      <td>0.051760</td>\n",
              "    </tr>\n",
              "    <tr>\n",
              "      <th>away_team</th>\n",
              "      <td>0.024572</td>\n",
              "      <td>-0.031884</td>\n",
              "      <td>1.014344</td>\n",
              "      <td>0.089102</td>\n",
              "      <td>0.078062</td>\n",
              "    </tr>\n",
              "    <tr>\n",
              "      <th>home_score</th>\n",
              "      <td>0.026039</td>\n",
              "      <td>0.004235</td>\n",
              "      <td>0.089102</td>\n",
              "      <td>1.012153</td>\n",
              "      <td>0.071133</td>\n",
              "    </tr>\n",
              "    <tr>\n",
              "      <th>tournament</th>\n",
              "      <td>0.122624</td>\n",
              "      <td>0.051760</td>\n",
              "      <td>0.078062</td>\n",
              "      <td>0.071133</td>\n",
              "      <td>1.027170</td>\n",
              "    </tr>\n",
              "  </tbody>\n",
              "</table>\n",
              "</div>"
            ],
            "text/plain": [
              "                rank  home_team  away_team  home_score  tournament\n",
              "rank        1.015485  -0.013021   0.024572    0.026039    0.122624\n",
              "home_team  -0.013021   1.004244  -0.031884    0.004235    0.051760\n",
              "away_team   0.024572  -0.031884   1.014344    0.089102    0.078062\n",
              "home_score  0.026039   0.004235   0.089102    1.012153    0.071133\n",
              "tournament  0.122624   0.051760   0.078062    0.071133    1.027170"
            ]
          },
          "metadata": {
            "tags": []
          },
          "execution_count": 404
        }
      ]
    },
    {
      "cell_type": "markdown",
      "metadata": {
        "id": "4QFhoYP0mdGg",
        "colab_type": "text"
      },
      "source": [
        "There is no multicollinearity in the away team"
      ]
    },
    {
      "cell_type": "code",
      "metadata": {
        "id": "PhCdMpgvmPdX",
        "colab_type": "code",
        "colab": {
          "base_uri": "https://localhost:8080/",
          "height": 319
        },
        "outputId": "39fcf8aa-7822-4aa0-fd75-da988c15d1b5"
      },
      "source": [
        "# Showing that there is no multicollinearity on a heatmap\n",
        "\n",
        "sns.heatmap(multa,annot=True)\n",
        "plt.show()"
      ],
      "execution_count": 403,
      "outputs": [
        {
          "output_type": "display_data",
          "data": {
            "image/png": "[encoded data removed]",
            "text/plain": [
              "<Figure size 432x288 with 2 Axes>"
            ]
          },
          "metadata": {
            "tags": []
          }
        }
      ]
    },
    {
      "cell_type": "code",
      "metadata": {
        "id": "jBwlUPQKSAbb",
        "colab_type": "code",
        "colab": {}
      },
      "source": [
        "#splitting the train set and test set\n",
        "\n",
        "xa_train,xa_test,ya_train,ya_test = train_test_split(Xa,ya,test_size = 0.2,random_state =0)"
      ],
      "execution_count": 0,
      "outputs": []
    },
    {
      "cell_type": "code",
      "metadata": {
        "id": "ACpy1OAUeDh_",
        "colab_type": "code",
        "colab": {
          "base_uri": "https://localhost:8080/",
          "height": 185
        },
        "outputId": "9de397fe-e4f3-410e-c6dc-cd7419161644"
      },
      "source": [
        "# Predicting the model using linear regression\n",
        "lr = LinearRegression()\n",
        "lr.fit(xa_train,ya_train)\n",
        "\n",
        "ya_pred = lr.predict(xa_test)\n",
        "# Metrics of success\n",
        "print(\"RMSE : \",np.sqrt(mean_squared_error(ya_test,ya_pred)))\n",
        "comp = pd.DataFrame({\"Actual\":ya_test,\"Predicted\":ya_pred})\n",
        "print(comp.describe())\n",
        "\n"
      ],
      "execution_count": 395,
      "outputs": [
        {
          "output_type": "stream",
          "text": [
            "RMSE :  1.153567685316895\n",
            "           Actual   Predicted\n",
            "count  190.000000  190.000000\n",
            "mean     1.047368    1.051225\n",
            "std      1.156014    0.196042\n",
            "min      0.000000    0.411662\n",
            "25%      0.000000    0.926923\n",
            "50%      1.000000    1.046234\n",
            "75%      2.000000    1.178495\n",
            "max      7.000000    1.680917\n"
          ],
          "name": "stdout"
        }
      ]
    },
    {
      "cell_type": "markdown",
      "metadata": {
        "id": "edm-V1ZNkDNZ",
        "colab_type": "text"
      },
      "source": [
        "The Rmse score of 1.15  is bigger than 10% of mean which is 0.104,hence its not very good"
      ]
    },
    {
      "cell_type": "code",
      "metadata": {
        "id": "fbNGA_RMeDZZ",
        "colab_type": "code",
        "colab": {
          "base_uri": "https://localhost:8080/",
          "height": 185
        },
        "outputId": "7b31098a-9f89-478d-b963-24d21254577c"
      },
      "source": [
        "# using polynomial regrresion to fit and predict the model\n",
        "pf =PolynomialFeatures(degree=2)\n",
        "xtr_poly = pf.fit_transform(xa_train)\n",
        "xtst_poly = pf.fit_transform(xa_test)\n",
        "\n",
        "lr = LinearRegression()\n",
        "lr.fit(xtr_poly,ya_train)\n",
        "\n",
        "yap_pred = lr.predict(xtst_poly)\n",
        "#metrics of success\n",
        "print(np.sqrt(mean_squared_error(ya_test,yap_pred)))\n",
        "comp = pd.DataFrame({\"Actual\":ya_test,\"Predicted\":yap_pred}).head(20)\n",
        "print(comp.describe())\n"
      ],
      "execution_count": 397,
      "outputs": [
        {
          "output_type": "stream",
          "text": [
            "1.1941803582571737\n",
            "          Actual  Predicted\n",
            "count  20.000000  20.000000\n",
            "mean    1.000000   0.903021\n",
            "std     1.025978   0.283668\n",
            "min     0.000000   0.396146\n",
            "25%     0.000000   0.817905\n",
            "50%     1.000000   0.907949\n",
            "75%     1.000000   1.037911\n",
            "max     4.000000   1.425080\n"
          ],
          "name": "stdout"
        }
      ]
    },
    {
      "cell_type": "markdown",
      "metadata": {
        "id": "9gsYF8YGkrF6",
        "colab_type": "text"
      },
      "source": [
        "The Rmse score of 1.15  is bigger than 10% of mean which is 0.1,hence its not very good but can still be used for prediction because its not so far"
      ]
    },
    {
      "cell_type": "code",
      "metadata": {
        "id": "JZfvq2-ZNKOT",
        "colab_type": "code",
        "outputId": "f5aaf9f0-7db2-45bc-ba8e-8f1a8bcece80",
        "colab": {
          "base_uri": "https://localhost:8080/",
          "height": 295
        }
      },
      "source": [
        "comp.plot(kind='bar')"
      ],
      "execution_count": 0,
      "outputs": [
        {
          "output_type": "execute_result",
          "data": {
            "text/plain": [
              "<matplotlib.axes._subplots.AxesSubplot at 0x7f2040c19e48>"
            ]
          },
          "metadata": {
            "tags": []
          },
          "execution_count": 347
        },
        {
          "output_type": "display_data",
          "data": {
            "image/png": "[encoded data removed]",
            "text/plain": [
              "<Figure size 432x288 with 1 Axes>"
            ]
          },
          "metadata": {
            "tags": []
          }
        }
      ]
    },
    {
      "cell_type": "markdown",
      "metadata": {
        "id": "MM48nXbYjY-R",
        "colab_type": "text"
      },
      "source": [
        "##### Bartlets Test"
      ]
    },
    {
      "cell_type": "code",
      "metadata": {
        "id": "aJlmIHQz3hRu",
        "colab_type": "code",
        "colab": {}
      },
      "source": [
        "# Checking for residuals\n",
        "residuals = np.subtract(yap_pred, ya_test)\n",
        "\n",
        "# Let's describe our residual:\n",
        "pd.DataFrame(residuals).describe()\n",
        "\n",
        "residuals.mean()"
      ],
      "execution_count": 0,
      "outputs": []
    },
    {
      "cell_type": "code",
      "metadata": {
        "id": "GS4eEc8b3mvd",
        "colab_type": "code",
        "outputId": "51f925d3-9815-4850-b984-b8999b0319be",
        "colab": {
          "base_uri": "https://localhost:8080/",
          "height": 283
        }
      },
      "source": [
        "# Plotting the residuals against the fiited using a satter plot\n",
        "\n",
        "plt.scatter(yap_pred, residuals, color='black')\n",
        "plt.ylabel('residual')\n",
        "plt.xlabel('fitted values')\n",
        "plt.axhline(y= residuals.mean(), color='red', linewidth=1)\n",
        "plt.show()"
      ],
      "execution_count": 0,
      "outputs": [
        {
          "output_type": "display_data",
          "data": {
            "image/png": "[encoded data removed]",
            "text/plain": [
              "<Figure size 432x288 with 1 Axes>"
            ]
          },
          "metadata": {
            "tags": []
          }
        }
      ]
    },
    {
      "cell_type": "markdown",
      "metadata": {
        "id": "douRQ2Pp3-x1",
        "colab_type": "text"
      },
      "source": [
        "### Approach 2 Logistic approach"
      ]
    },
    {
      "cell_type": "code",
      "metadata": {
        "id": "xoP9ugykeDUD",
        "colab_type": "code",
        "outputId": "a8ba1080-6f8d-4052-901a-708b82df055f",
        "colab": {
          "base_uri": "https://localhost:8080/",
          "height": 215
        }
      },
      "source": [
        "# Creating the difference between the home scores and away scores inorder to identify whether it is awin a lose or adraw\n",
        "df['diff'] = df['home_score'] - df['away_score']\n",
        "df.head()"
      ],
      "execution_count": 0,
      "outputs": [
        {
          "output_type": "execute_result",
          "data": {
            "text/html": [
              "<div>\n",
              "<style scoped>\n",
              "    .dataframe tbody tr th:only-of-type {\n",
              "        vertical-align: middle;\n",
              "    }\n",
              "\n",
              "    .dataframe tbody tr th {\n",
              "        vertical-align: top;\n",
              "    }\n",
              "\n",
              "    .dataframe thead th {\n",
              "        text-align: right;\n",
              "    }\n",
              "</style>\n",
              "<table border=\"1\" class=\"dataframe\">\n",
              "  <thead>\n",
              "    <tr style=\"text-align: right;\">\n",
              "      <th></th>\n",
              "      <th>rank</th>\n",
              "      <th>country</th>\n",
              "      <th>total_points</th>\n",
              "      <th>previous_points</th>\n",
              "      <th>rank_change</th>\n",
              "      <th>cur_year_avg</th>\n",
              "      <th>cur_year_avg_weighted</th>\n",
              "      <th>last_year_avg</th>\n",
              "      <th>last_year_avg_weighted</th>\n",
              "      <th>two_year_ago_avg</th>\n",
              "      <th>two_year_ago_weighted</th>\n",
              "      <th>three_year_ago_avg</th>\n",
              "      <th>three_year_ago_weighted</th>\n",
              "      <th>confederation</th>\n",
              "      <th>date</th>\n",
              "      <th>home_team</th>\n",
              "      <th>away_team</th>\n",
              "      <th>home_score</th>\n",
              "      <th>away_score</th>\n",
              "      <th>tournament</th>\n",
              "      <th>city</th>\n",
              "      <th>neutral</th>\n",
              "      <th>diff</th>\n",
              "    </tr>\n",
              "  </thead>\n",
              "  <tbody>\n",
              "    <tr>\n",
              "      <th>0</th>\n",
              "      <td>8</td>\n",
              "      <td>22</td>\n",
              "      <td>0.0</td>\n",
              "      <td>55</td>\n",
              "      <td>-5</td>\n",
              "      <td>0.0</td>\n",
              "      <td>0.0</td>\n",
              "      <td>0.0</td>\n",
              "      <td>0.0</td>\n",
              "      <td>0.0</td>\n",
              "      <td>0.0</td>\n",
              "      <td>0.0</td>\n",
              "      <td>0.0</td>\n",
              "      <td>3</td>\n",
              "      <td>0</td>\n",
              "      <td>26</td>\n",
              "      <td>106</td>\n",
              "      <td>1</td>\n",
              "      <td>1</td>\n",
              "      <td>18</td>\n",
              "      <td>201</td>\n",
              "      <td>0</td>\n",
              "      <td>0</td>\n",
              "    </tr>\n",
              "    <tr>\n",
              "      <th>1</th>\n",
              "      <td>35</td>\n",
              "      <td>38</td>\n",
              "      <td>0.0</td>\n",
              "      <td>23</td>\n",
              "      <td>30</td>\n",
              "      <td>0.0</td>\n",
              "      <td>0.0</td>\n",
              "      <td>0.0</td>\n",
              "      <td>0.0</td>\n",
              "      <td>0.0</td>\n",
              "      <td>0.0</td>\n",
              "      <td>0.0</td>\n",
              "      <td>0.0</td>\n",
              "      <td>3</td>\n",
              "      <td>0</td>\n",
              "      <td>50</td>\n",
              "      <td>188</td>\n",
              "      <td>5</td>\n",
              "      <td>0</td>\n",
              "      <td>17</td>\n",
              "      <td>291</td>\n",
              "      <td>0</td>\n",
              "      <td>5</td>\n",
              "    </tr>\n",
              "    <tr>\n",
              "      <th>2</th>\n",
              "      <td>50</td>\n",
              "      <td>155</td>\n",
              "      <td>0.0</td>\n",
              "      <td>27</td>\n",
              "      <td>4</td>\n",
              "      <td>0.0</td>\n",
              "      <td>0.0</td>\n",
              "      <td>0.0</td>\n",
              "      <td>0.0</td>\n",
              "      <td>0.0</td>\n",
              "      <td>0.0</td>\n",
              "      <td>0.0</td>\n",
              "      <td>0.0</td>\n",
              "      <td>1</td>\n",
              "      <td>0</td>\n",
              "      <td>188</td>\n",
              "      <td>57</td>\n",
              "      <td>2</td>\n",
              "      <td>0</td>\n",
              "      <td>18</td>\n",
              "      <td>127</td>\n",
              "      <td>0</td>\n",
              "      <td>2</td>\n",
              "    </tr>\n",
              "    <tr>\n",
              "      <th>3</th>\n",
              "      <td>59</td>\n",
              "      <td>19</td>\n",
              "      <td>0.0</td>\n",
              "      <td>13</td>\n",
              "      <td>28</td>\n",
              "      <td>0.0</td>\n",
              "      <td>0.0</td>\n",
              "      <td>0.0</td>\n",
              "      <td>0.0</td>\n",
              "      <td>0.0</td>\n",
              "      <td>0.0</td>\n",
              "      <td>0.0</td>\n",
              "      <td>0.0</td>\n",
              "      <td>3</td>\n",
              "      <td>0</td>\n",
              "      <td>23</td>\n",
              "      <td>185</td>\n",
              "      <td>3</td>\n",
              "      <td>1</td>\n",
              "      <td>17</td>\n",
              "      <td>175</td>\n",
              "      <td>0</td>\n",
              "      <td>2</td>\n",
              "    </tr>\n",
              "    <tr>\n",
              "      <th>4</th>\n",
              "      <td>65</td>\n",
              "      <td>56</td>\n",
              "      <td>0.0</td>\n",
              "      <td>23</td>\n",
              "      <td>-2</td>\n",
              "      <td>0.0</td>\n",
              "      <td>0.0</td>\n",
              "      <td>0.0</td>\n",
              "      <td>0.0</td>\n",
              "      <td>0.0</td>\n",
              "      <td>0.0</td>\n",
              "      <td>0.0</td>\n",
              "      <td>0.0</td>\n",
              "      <td>1</td>\n",
              "      <td>0</td>\n",
              "      <td>71</td>\n",
              "      <td>154</td>\n",
              "      <td>1</td>\n",
              "      <td>0</td>\n",
              "      <td>18</td>\n",
              "      <td>79</td>\n",
              "      <td>0</td>\n",
              "      <td>1</td>\n",
              "    </tr>\n",
              "  </tbody>\n",
              "</table>\n",
              "</div>"
            ],
            "text/plain": [
              "   rank  country  total_points  ...  city  neutral  diff\n",
              "0     8       22           0.0  ...   201        0     0\n",
              "1    35       38           0.0  ...   291        0     5\n",
              "2    50      155           0.0  ...   127        0     2\n",
              "3    59       19           0.0  ...   175        0     2\n",
              "4    65       56           0.0  ...    79        0     1\n",
              "\n",
              "[5 rows x 23 columns]"
            ]
          },
          "metadata": {
            "tags": []
          },
          "execution_count": 239
        }
      ]
    },
    {
      "cell_type": "code",
      "metadata": {
        "id": "w0CoGNpV-KgR",
        "colab_type": "code",
        "outputId": "7b863149-13fe-441e-cd14-d6a8b6a5e16e",
        "colab": {
          "base_uri": "https://localhost:8080/",
          "height": 215
        }
      },
      "source": [
        "# Seeing the mapping difference on the difference column\n",
        "df.head()"
      ],
      "execution_count": 0,
      "outputs": [
        {
          "output_type": "execute_result",
          "data": {
            "text/html": [
              "<div>\n",
              "<style scoped>\n",
              "    .dataframe tbody tr th:only-of-type {\n",
              "        vertical-align: middle;\n",
              "    }\n",
              "\n",
              "    .dataframe tbody tr th {\n",
              "        vertical-align: top;\n",
              "    }\n",
              "\n",
              "    .dataframe thead th {\n",
              "        text-align: right;\n",
              "    }\n",
              "</style>\n",
              "<table border=\"1\" class=\"dataframe\">\n",
              "  <thead>\n",
              "    <tr style=\"text-align: right;\">\n",
              "      <th></th>\n",
              "      <th>rank</th>\n",
              "      <th>country</th>\n",
              "      <th>total_points</th>\n",
              "      <th>previous_points</th>\n",
              "      <th>rank_change</th>\n",
              "      <th>cur_year_avg</th>\n",
              "      <th>cur_year_avg_weighted</th>\n",
              "      <th>last_year_avg</th>\n",
              "      <th>last_year_avg_weighted</th>\n",
              "      <th>two_year_ago_avg</th>\n",
              "      <th>two_year_ago_weighted</th>\n",
              "      <th>three_year_ago_avg</th>\n",
              "      <th>three_year_ago_weighted</th>\n",
              "      <th>confederation</th>\n",
              "      <th>date</th>\n",
              "      <th>home_team</th>\n",
              "      <th>away_team</th>\n",
              "      <th>home_score</th>\n",
              "      <th>away_score</th>\n",
              "      <th>tournament</th>\n",
              "      <th>city</th>\n",
              "      <th>neutral</th>\n",
              "      <th>diff</th>\n",
              "    </tr>\n",
              "  </thead>\n",
              "  <tbody>\n",
              "    <tr>\n",
              "      <th>0</th>\n",
              "      <td>8</td>\n",
              "      <td>22</td>\n",
              "      <td>0.0</td>\n",
              "      <td>55</td>\n",
              "      <td>-5</td>\n",
              "      <td>0.0</td>\n",
              "      <td>0.0</td>\n",
              "      <td>0.0</td>\n",
              "      <td>0.0</td>\n",
              "      <td>0.0</td>\n",
              "      <td>0.0</td>\n",
              "      <td>0.0</td>\n",
              "      <td>0.0</td>\n",
              "      <td>3</td>\n",
              "      <td>0</td>\n",
              "      <td>26</td>\n",
              "      <td>106</td>\n",
              "      <td>1</td>\n",
              "      <td>1</td>\n",
              "      <td>18</td>\n",
              "      <td>201</td>\n",
              "      <td>0</td>\n",
              "      <td>0</td>\n",
              "    </tr>\n",
              "    <tr>\n",
              "      <th>1</th>\n",
              "      <td>35</td>\n",
              "      <td>38</td>\n",
              "      <td>0.0</td>\n",
              "      <td>23</td>\n",
              "      <td>30</td>\n",
              "      <td>0.0</td>\n",
              "      <td>0.0</td>\n",
              "      <td>0.0</td>\n",
              "      <td>0.0</td>\n",
              "      <td>0.0</td>\n",
              "      <td>0.0</td>\n",
              "      <td>0.0</td>\n",
              "      <td>0.0</td>\n",
              "      <td>3</td>\n",
              "      <td>0</td>\n",
              "      <td>50</td>\n",
              "      <td>188</td>\n",
              "      <td>5</td>\n",
              "      <td>0</td>\n",
              "      <td>17</td>\n",
              "      <td>291</td>\n",
              "      <td>0</td>\n",
              "      <td>5</td>\n",
              "    </tr>\n",
              "    <tr>\n",
              "      <th>2</th>\n",
              "      <td>50</td>\n",
              "      <td>155</td>\n",
              "      <td>0.0</td>\n",
              "      <td>27</td>\n",
              "      <td>4</td>\n",
              "      <td>0.0</td>\n",
              "      <td>0.0</td>\n",
              "      <td>0.0</td>\n",
              "      <td>0.0</td>\n",
              "      <td>0.0</td>\n",
              "      <td>0.0</td>\n",
              "      <td>0.0</td>\n",
              "      <td>0.0</td>\n",
              "      <td>1</td>\n",
              "      <td>0</td>\n",
              "      <td>188</td>\n",
              "      <td>57</td>\n",
              "      <td>2</td>\n",
              "      <td>0</td>\n",
              "      <td>18</td>\n",
              "      <td>127</td>\n",
              "      <td>0</td>\n",
              "      <td>2</td>\n",
              "    </tr>\n",
              "    <tr>\n",
              "      <th>3</th>\n",
              "      <td>59</td>\n",
              "      <td>19</td>\n",
              "      <td>0.0</td>\n",
              "      <td>13</td>\n",
              "      <td>28</td>\n",
              "      <td>0.0</td>\n",
              "      <td>0.0</td>\n",
              "      <td>0.0</td>\n",
              "      <td>0.0</td>\n",
              "      <td>0.0</td>\n",
              "      <td>0.0</td>\n",
              "      <td>0.0</td>\n",
              "      <td>0.0</td>\n",
              "      <td>3</td>\n",
              "      <td>0</td>\n",
              "      <td>23</td>\n",
              "      <td>185</td>\n",
              "      <td>3</td>\n",
              "      <td>1</td>\n",
              "      <td>17</td>\n",
              "      <td>175</td>\n",
              "      <td>0</td>\n",
              "      <td>2</td>\n",
              "    </tr>\n",
              "    <tr>\n",
              "      <th>4</th>\n",
              "      <td>65</td>\n",
              "      <td>56</td>\n",
              "      <td>0.0</td>\n",
              "      <td>23</td>\n",
              "      <td>-2</td>\n",
              "      <td>0.0</td>\n",
              "      <td>0.0</td>\n",
              "      <td>0.0</td>\n",
              "      <td>0.0</td>\n",
              "      <td>0.0</td>\n",
              "      <td>0.0</td>\n",
              "      <td>0.0</td>\n",
              "      <td>0.0</td>\n",
              "      <td>1</td>\n",
              "      <td>0</td>\n",
              "      <td>71</td>\n",
              "      <td>154</td>\n",
              "      <td>1</td>\n",
              "      <td>0</td>\n",
              "      <td>18</td>\n",
              "      <td>79</td>\n",
              "      <td>0</td>\n",
              "      <td>1</td>\n",
              "    </tr>\n",
              "  </tbody>\n",
              "</table>\n",
              "</div>"
            ],
            "text/plain": [
              "   rank  country  total_points  ...  city  neutral  diff\n",
              "0     8       22           0.0  ...   201        0     0\n",
              "1    35       38           0.0  ...   291        0     5\n",
              "2    50      155           0.0  ...   127        0     2\n",
              "3    59       19           0.0  ...   175        0     2\n",
              "4    65       56           0.0  ...    79        0     1\n",
              "\n",
              "[5 rows x 23 columns]"
            ]
          },
          "metadata": {
            "tags": []
          },
          "execution_count": 241
        }
      ]
    },
    {
      "cell_type": "code",
      "metadata": {
        "id": "tEUIzEF_8sn0",
        "colab_type": "code",
        "outputId": "fe733dd1-329a-4b85-8ec4-a90d74110d9b",
        "colab": {
          "base_uri": "https://localhost:8080/",
          "height": 215
        }
      },
      "source": [
        "def convert(goals):\n",
        "  if goals > 0:\n",
        "    return 'Win' # The positive differnce is a win\n",
        "  elif goals < 0:\n",
        "    return 'Lose' # The negative differnce is a lose\n",
        "  else:\n",
        "    return 'Draw' # The 0 differnce is a draw\n",
        "\n",
        "df['diff'] = df['diff'].apply(lambda x: convert(x))\n",
        "df.head()"
      ],
      "execution_count": 0,
      "outputs": [
        {
          "output_type": "execute_result",
          "data": {
            "text/html": [
              "<div>\n",
              "<style scoped>\n",
              "    .dataframe tbody tr th:only-of-type {\n",
              "        vertical-align: middle;\n",
              "    }\n",
              "\n",
              "    .dataframe tbody tr th {\n",
              "        vertical-align: top;\n",
              "    }\n",
              "\n",
              "    .dataframe thead th {\n",
              "        text-align: right;\n",
              "    }\n",
              "</style>\n",
              "<table border=\"1\" class=\"dataframe\">\n",
              "  <thead>\n",
              "    <tr style=\"text-align: right;\">\n",
              "      <th></th>\n",
              "      <th>rank</th>\n",
              "      <th>country</th>\n",
              "      <th>total_points</th>\n",
              "      <th>previous_points</th>\n",
              "      <th>rank_change</th>\n",
              "      <th>cur_year_avg</th>\n",
              "      <th>cur_year_avg_weighted</th>\n",
              "      <th>last_year_avg</th>\n",
              "      <th>last_year_avg_weighted</th>\n",
              "      <th>two_year_ago_avg</th>\n",
              "      <th>two_year_ago_weighted</th>\n",
              "      <th>three_year_ago_avg</th>\n",
              "      <th>three_year_ago_weighted</th>\n",
              "      <th>confederation</th>\n",
              "      <th>date</th>\n",
              "      <th>home_team</th>\n",
              "      <th>away_team</th>\n",
              "      <th>home_score</th>\n",
              "      <th>away_score</th>\n",
              "      <th>tournament</th>\n",
              "      <th>city</th>\n",
              "      <th>neutral</th>\n",
              "      <th>diff</th>\n",
              "    </tr>\n",
              "  </thead>\n",
              "  <tbody>\n",
              "    <tr>\n",
              "      <th>0</th>\n",
              "      <td>8</td>\n",
              "      <td>22</td>\n",
              "      <td>0.0</td>\n",
              "      <td>55</td>\n",
              "      <td>-5</td>\n",
              "      <td>0.0</td>\n",
              "      <td>0.0</td>\n",
              "      <td>0.0</td>\n",
              "      <td>0.0</td>\n",
              "      <td>0.0</td>\n",
              "      <td>0.0</td>\n",
              "      <td>0.0</td>\n",
              "      <td>0.0</td>\n",
              "      <td>3</td>\n",
              "      <td>0</td>\n",
              "      <td>26</td>\n",
              "      <td>106</td>\n",
              "      <td>1</td>\n",
              "      <td>1</td>\n",
              "      <td>18</td>\n",
              "      <td>201</td>\n",
              "      <td>0</td>\n",
              "      <td>Draw</td>\n",
              "    </tr>\n",
              "    <tr>\n",
              "      <th>1</th>\n",
              "      <td>35</td>\n",
              "      <td>38</td>\n",
              "      <td>0.0</td>\n",
              "      <td>23</td>\n",
              "      <td>30</td>\n",
              "      <td>0.0</td>\n",
              "      <td>0.0</td>\n",
              "      <td>0.0</td>\n",
              "      <td>0.0</td>\n",
              "      <td>0.0</td>\n",
              "      <td>0.0</td>\n",
              "      <td>0.0</td>\n",
              "      <td>0.0</td>\n",
              "      <td>3</td>\n",
              "      <td>0</td>\n",
              "      <td>50</td>\n",
              "      <td>188</td>\n",
              "      <td>5</td>\n",
              "      <td>0</td>\n",
              "      <td>17</td>\n",
              "      <td>291</td>\n",
              "      <td>0</td>\n",
              "      <td>Win</td>\n",
              "    </tr>\n",
              "    <tr>\n",
              "      <th>2</th>\n",
              "      <td>50</td>\n",
              "      <td>155</td>\n",
              "      <td>0.0</td>\n",
              "      <td>27</td>\n",
              "      <td>4</td>\n",
              "      <td>0.0</td>\n",
              "      <td>0.0</td>\n",
              "      <td>0.0</td>\n",
              "      <td>0.0</td>\n",
              "      <td>0.0</td>\n",
              "      <td>0.0</td>\n",
              "      <td>0.0</td>\n",
              "      <td>0.0</td>\n",
              "      <td>1</td>\n",
              "      <td>0</td>\n",
              "      <td>188</td>\n",
              "      <td>57</td>\n",
              "      <td>2</td>\n",
              "      <td>0</td>\n",
              "      <td>18</td>\n",
              "      <td>127</td>\n",
              "      <td>0</td>\n",
              "      <td>Win</td>\n",
              "    </tr>\n",
              "    <tr>\n",
              "      <th>3</th>\n",
              "      <td>59</td>\n",
              "      <td>19</td>\n",
              "      <td>0.0</td>\n",
              "      <td>13</td>\n",
              "      <td>28</td>\n",
              "      <td>0.0</td>\n",
              "      <td>0.0</td>\n",
              "      <td>0.0</td>\n",
              "      <td>0.0</td>\n",
              "      <td>0.0</td>\n",
              "      <td>0.0</td>\n",
              "      <td>0.0</td>\n",
              "      <td>0.0</td>\n",
              "      <td>3</td>\n",
              "      <td>0</td>\n",
              "      <td>23</td>\n",
              "      <td>185</td>\n",
              "      <td>3</td>\n",
              "      <td>1</td>\n",
              "      <td>17</td>\n",
              "      <td>175</td>\n",
              "      <td>0</td>\n",
              "      <td>Win</td>\n",
              "    </tr>\n",
              "    <tr>\n",
              "      <th>4</th>\n",
              "      <td>65</td>\n",
              "      <td>56</td>\n",
              "      <td>0.0</td>\n",
              "      <td>23</td>\n",
              "      <td>-2</td>\n",
              "      <td>0.0</td>\n",
              "      <td>0.0</td>\n",
              "      <td>0.0</td>\n",
              "      <td>0.0</td>\n",
              "      <td>0.0</td>\n",
              "      <td>0.0</td>\n",
              "      <td>0.0</td>\n",
              "      <td>0.0</td>\n",
              "      <td>1</td>\n",
              "      <td>0</td>\n",
              "      <td>71</td>\n",
              "      <td>154</td>\n",
              "      <td>1</td>\n",
              "      <td>0</td>\n",
              "      <td>18</td>\n",
              "      <td>79</td>\n",
              "      <td>0</td>\n",
              "      <td>Win</td>\n",
              "    </tr>\n",
              "  </tbody>\n",
              "</table>\n",
              "</div>"
            ],
            "text/plain": [
              "   rank  country  total_points  ...  city  neutral  diff\n",
              "0     8       22           0.0  ...   201        0  Draw\n",
              "1    35       38           0.0  ...   291        0   Win\n",
              "2    50      155           0.0  ...   127        0   Win\n",
              "3    59       19           0.0  ...   175        0   Win\n",
              "4    65       56           0.0  ...    79        0   Win\n",
              "\n",
              "[5 rows x 23 columns]"
            ]
          },
          "metadata": {
            "tags": []
          },
          "execution_count": 242
        }
      ]
    },
    {
      "cell_type": "code",
      "metadata": {
        "id": "Vy4mSndT-p6v",
        "colab_type": "code",
        "outputId": "59ca940a-6c80-4be7-a28e-1ff8565c013a",
        "colab": {
          "base_uri": "https://localhost:8080/",
          "height": 134
        }
      },
      "source": [
        "# Renaming the difference column to a status column\n",
        "df.rename(columns ={'diff':'status'},inplace=True)\n",
        "df.columns"
      ],
      "execution_count": 0,
      "outputs": [
        {
          "output_type": "execute_result",
          "data": {
            "text/plain": [
              "Index(['rank', 'country', 'total_points', 'previous_points', 'rank_change',\n",
              "       'cur_year_avg', 'cur_year_avg_weighted', 'last_year_avg',\n",
              "       'last_year_avg_weighted', 'two_year_ago_avg', 'two_year_ago_weighted',\n",
              "       'three_year_ago_avg', 'three_year_ago_weighted', 'confederation',\n",
              "       'date', 'home_team', 'away_team', 'home_score', 'away_score',\n",
              "       'tournament', 'city', 'neutral', 'status'],\n",
              "      dtype='object')"
            ]
          },
          "metadata": {
            "tags": []
          },
          "execution_count": 243
        }
      ]
    },
    {
      "cell_type": "code",
      "metadata": {
        "id": "78Us0eu94Wl9",
        "colab_type": "code",
        "outputId": "560897f4-027c-4d8e-f9bf-9856c427061c",
        "colab": {
          "base_uri": "https://localhost:8080/",
          "height": 319
        }
      },
      "source": [
        "# visualizing the win draw and lose on a bar plot\n",
        "sns.countplot('status',data=df)\n",
        "plt.xlabel(\"Status\",fontsize=15)\n",
        "plt.ylabel(\"Frequency\",fontsize=15)\n",
        "plt.title(\"Countplot of Status\",fontsize=16,color=\"green\")"
      ],
      "execution_count": 0,
      "outputs": [
        {
          "output_type": "execute_result",
          "data": {
            "text/plain": [
              "Text(0.5, 1.0, 'Countplot of Status')"
            ]
          },
          "metadata": {
            "tags": []
          },
          "execution_count": 297
        },
        {
          "output_type": "display_data",
          "data": {
            "image/png": "[encoded data removed]",
            "text/plain": [
              "<Figure size 432x288 with 1 Axes>"
            ]
          },
          "metadata": {
            "tags": []
          }
        }
      ]
    },
    {
      "cell_type": "code",
      "metadata": {
        "id": "_VuFtZ82-p2n",
        "colab_type": "code",
        "colab": {}
      },
      "source": [
        "# splitting the data into feature set and a target set\n",
        "X =df[['rank', 'country', 'total_points', 'previous_points', 'rank_change', 'confederation',\n",
        "       'date', 'home_team', 'away_team', \n",
        "       'tournament', 'city', 'neutral']]\n",
        "y = df['status']"
      ],
      "execution_count": 0,
      "outputs": []
    },
    {
      "cell_type": "markdown",
      "metadata": {
        "id": "dM-lhLtNoT50",
        "colab_type": "text"
      },
      "source": [
        "##### Checking for mutlicollinearity"
      ]
    },
    {
      "cell_type": "code",
      "metadata": {
        "id": "jJmxEHeIruLN",
        "colab_type": "code",
        "outputId": "9f4e188a-d439-4a1f-d269-db3d239d573a",
        "colab": {
          "base_uri": "https://localhost:8080/",
          "height": 701
        }
      },
      "source": [
        "\n",
        "# Correlation heatmap of the numerical variables \n",
        "corr  =X.corr()\n",
        "\n",
        "plt.figure(figsize = (15,10))\n",
        "heatmap = np.zeros_like(X.corr(), dtype=np.bool)\n",
        "heatmap[np.triu_indices_from(heatmap)] = True\n",
        "sns.heatmap(X.corr(), annot=True, mask=heatmap)\n",
        "plt.show()"
      ],
      "execution_count": 406,
      "outputs": [
        {
          "output_type": "execute_result",
          "data": {
            "text/plain": [
              "<matplotlib.axes._subplots.AxesSubplot at 0x7f203fc8af60>"
            ]
          },
          "metadata": {
            "tags": []
          },
          "execution_count": 406
        },
        {
          "output_type": "display_data",
          "data": {
            "image/png": "[encoded data removed]",
            "text/plain": [
              "<Figure size 1080x720 with 2 Axes>"
            ]
          },
          "metadata": {
            "tags": []
          }
        }
      ]
    },
    {
      "cell_type": "markdown",
      "metadata": {
        "id": "NvVlYI46oz5y",
        "colab_type": "text"
      },
      "source": [
        "There is no much collinearity"
      ]
    },
    {
      "cell_type": "code",
      "metadata": {
        "id": "QspP12Cjs_jB",
        "colab_type": "code",
        "outputId": "10b61382-1e42-4824-cbdc-d42f7e3af738",
        "colab": {
          "base_uri": "https://localhost:8080/",
          "height": 422
        }
      },
      "source": [
        "# checking for multicollinearity\n",
        "pd.DataFrame(np.linalg.inv(corr.values) ,index = corr.index ,columns = corr.columns)"
      ],
      "execution_count": 0,
      "outputs": [
        {
          "output_type": "execute_result",
          "data": {
            "text/html": [
              "<div>\n",
              "<style scoped>\n",
              "    .dataframe tbody tr th:only-of-type {\n",
              "        vertical-align: middle;\n",
              "    }\n",
              "\n",
              "    .dataframe tbody tr th {\n",
              "        vertical-align: top;\n",
              "    }\n",
              "\n",
              "    .dataframe thead th {\n",
              "        text-align: right;\n",
              "    }\n",
              "</style>\n",
              "<table border=\"1\" class=\"dataframe\">\n",
              "  <thead>\n",
              "    <tr style=\"text-align: right;\">\n",
              "      <th></th>\n",
              "      <th>rank</th>\n",
              "      <th>country</th>\n",
              "      <th>total_points</th>\n",
              "      <th>previous_points</th>\n",
              "      <th>rank_change</th>\n",
              "      <th>confederation</th>\n",
              "      <th>date</th>\n",
              "      <th>home_team</th>\n",
              "      <th>away_team</th>\n",
              "      <th>tournament</th>\n",
              "      <th>city</th>\n",
              "      <th>neutral</th>\n",
              "    </tr>\n",
              "  </thead>\n",
              "  <tbody>\n",
              "    <tr>\n",
              "      <th>rank</th>\n",
              "      <td>2.764558</td>\n",
              "      <td>0.200990</td>\n",
              "      <td>0.427592</td>\n",
              "      <td>2.154724</td>\n",
              "      <td>0.149009</td>\n",
              "      <td>0.353250</td>\n",
              "      <td>-1.480213</td>\n",
              "      <td>-0.137415</td>\n",
              "      <td>0.086212</td>\n",
              "      <td>-0.074329</td>\n",
              "      <td>0.024355</td>\n",
              "      <td>-0.181795</td>\n",
              "    </tr>\n",
              "    <tr>\n",
              "      <th>country</th>\n",
              "      <td>0.200990</td>\n",
              "      <td>3.484009</td>\n",
              "      <td>0.204551</td>\n",
              "      <td>0.197499</td>\n",
              "      <td>-0.032506</td>\n",
              "      <td>0.222527</td>\n",
              "      <td>-0.056243</td>\n",
              "      <td>-2.884282</td>\n",
              "      <td>0.072320</td>\n",
              "      <td>-0.017899</td>\n",
              "      <td>0.220558</td>\n",
              "      <td>-0.310920</td>\n",
              "    </tr>\n",
              "    <tr>\n",
              "      <th>total_points</th>\n",
              "      <td>0.427592</td>\n",
              "      <td>0.204551</td>\n",
              "      <td>1.335793</td>\n",
              "      <td>0.301984</td>\n",
              "      <td>0.014605</td>\n",
              "      <td>-0.020392</td>\n",
              "      <td>-0.752918</td>\n",
              "      <td>-0.203764</td>\n",
              "      <td>-0.005165</td>\n",
              "      <td>-0.041323</td>\n",
              "      <td>0.040976</td>\n",
              "      <td>-0.187336</td>\n",
              "    </tr>\n",
              "    <tr>\n",
              "      <th>previous_points</th>\n",
              "      <td>2.154724</td>\n",
              "      <td>0.197499</td>\n",
              "      <td>0.301984</td>\n",
              "      <td>3.095338</td>\n",
              "      <td>0.091320</td>\n",
              "      <td>-0.200396</td>\n",
              "      <td>-1.793304</td>\n",
              "      <td>-0.180136</td>\n",
              "      <td>0.064965</td>\n",
              "      <td>-0.101355</td>\n",
              "      <td>0.034283</td>\n",
              "      <td>-0.240770</td>\n",
              "    </tr>\n",
              "    <tr>\n",
              "      <th>rank_change</th>\n",
              "      <td>0.149009</td>\n",
              "      <td>-0.032506</td>\n",
              "      <td>0.014605</td>\n",
              "      <td>0.091320</td>\n",
              "      <td>1.023473</td>\n",
              "      <td>0.078329</td>\n",
              "      <td>0.014045</td>\n",
              "      <td>0.090381</td>\n",
              "      <td>0.011494</td>\n",
              "      <td>0.013058</td>\n",
              "      <td>0.054050</td>\n",
              "      <td>-0.004066</td>\n",
              "    </tr>\n",
              "    <tr>\n",
              "      <th>confederation</th>\n",
              "      <td>0.353250</td>\n",
              "      <td>0.222527</td>\n",
              "      <td>-0.020392</td>\n",
              "      <td>-0.200396</td>\n",
              "      <td>0.078329</td>\n",
              "      <td>1.357954</td>\n",
              "      <td>0.223302</td>\n",
              "      <td>-0.035477</td>\n",
              "      <td>0.051919</td>\n",
              "      <td>-0.293007</td>\n",
              "      <td>-0.041855</td>\n",
              "      <td>0.006492</td>\n",
              "    </tr>\n",
              "    <tr>\n",
              "      <th>date</th>\n",
              "      <td>-1.480213</td>\n",
              "      <td>-0.056243</td>\n",
              "      <td>-0.752918</td>\n",
              "      <td>-1.793304</td>\n",
              "      <td>0.014045</td>\n",
              "      <td>0.223302</td>\n",
              "      <td>2.374022</td>\n",
              "      <td>0.065851</td>\n",
              "      <td>-0.026988</td>\n",
              "      <td>0.108100</td>\n",
              "      <td>-0.101079</td>\n",
              "      <td>0.052351</td>\n",
              "    </tr>\n",
              "    <tr>\n",
              "      <th>home_team</th>\n",
              "      <td>-0.137415</td>\n",
              "      <td>-2.884282</td>\n",
              "      <td>-0.203764</td>\n",
              "      <td>-0.180136</td>\n",
              "      <td>0.090381</td>\n",
              "      <td>-0.035477</td>\n",
              "      <td>0.065851</td>\n",
              "      <td>3.428464</td>\n",
              "      <td>-0.082940</td>\n",
              "      <td>0.047192</td>\n",
              "      <td>-0.091557</td>\n",
              "      <td>0.357553</td>\n",
              "    </tr>\n",
              "    <tr>\n",
              "      <th>away_team</th>\n",
              "      <td>0.086212</td>\n",
              "      <td>0.072320</td>\n",
              "      <td>-0.005165</td>\n",
              "      <td>0.064965</td>\n",
              "      <td>0.011494</td>\n",
              "      <td>0.051919</td>\n",
              "      <td>-0.026988</td>\n",
              "      <td>-0.082940</td>\n",
              "      <td>1.020396</td>\n",
              "      <td>0.053965</td>\n",
              "      <td>0.083795</td>\n",
              "      <td>-0.056018</td>\n",
              "    </tr>\n",
              "    <tr>\n",
              "      <th>tournament</th>\n",
              "      <td>-0.074329</td>\n",
              "      <td>-0.017899</td>\n",
              "      <td>-0.041323</td>\n",
              "      <td>-0.101355</td>\n",
              "      <td>0.013058</td>\n",
              "      <td>-0.293007</td>\n",
              "      <td>0.108100</td>\n",
              "      <td>0.047192</td>\n",
              "      <td>0.053965</td>\n",
              "      <td>1.111866</td>\n",
              "      <td>0.027074</td>\n",
              "      <td>0.122201</td>\n",
              "    </tr>\n",
              "    <tr>\n",
              "      <th>city</th>\n",
              "      <td>0.024355</td>\n",
              "      <td>0.220558</td>\n",
              "      <td>0.040976</td>\n",
              "      <td>0.034283</td>\n",
              "      <td>0.054050</td>\n",
              "      <td>-0.041855</td>\n",
              "      <td>-0.101079</td>\n",
              "      <td>-0.091557</td>\n",
              "      <td>0.083795</td>\n",
              "      <td>0.027074</td>\n",
              "      <td>1.042715</td>\n",
              "      <td>0.035851</td>\n",
              "    </tr>\n",
              "    <tr>\n",
              "      <th>neutral</th>\n",
              "      <td>-0.181795</td>\n",
              "      <td>-0.310920</td>\n",
              "      <td>-0.187336</td>\n",
              "      <td>-0.240770</td>\n",
              "      <td>-0.004066</td>\n",
              "      <td>0.006492</td>\n",
              "      <td>0.052351</td>\n",
              "      <td>0.357553</td>\n",
              "      <td>-0.056018</td>\n",
              "      <td>0.122201</td>\n",
              "      <td>0.035851</td>\n",
              "      <td>1.107905</td>\n",
              "    </tr>\n",
              "  </tbody>\n",
              "</table>\n",
              "</div>"
            ],
            "text/plain": [
              "                     rank   country  ...      city   neutral\n",
              "rank             2.764558  0.200990  ...  0.024355 -0.181795\n",
              "country          0.200990  3.484009  ...  0.220558 -0.310920\n",
              "total_points     0.427592  0.204551  ...  0.040976 -0.187336\n",
              "previous_points  2.154724  0.197499  ...  0.034283 -0.240770\n",
              "rank_change      0.149009 -0.032506  ...  0.054050 -0.004066\n",
              "confederation    0.353250  0.222527  ... -0.041855  0.006492\n",
              "date            -1.480213 -0.056243  ... -0.101079  0.052351\n",
              "home_team       -0.137415 -2.884282  ... -0.091557  0.357553\n",
              "away_team        0.086212  0.072320  ...  0.083795 -0.056018\n",
              "tournament      -0.074329 -0.017899  ...  0.027074  0.122201\n",
              "city             0.024355  0.220558  ...  1.042715  0.035851\n",
              "neutral         -0.181795 -0.310920  ...  0.035851  1.107905\n",
              "\n",
              "[12 rows x 12 columns]"
            ]
          },
          "metadata": {
            "tags": []
          },
          "execution_count": 283
        }
      ]
    },
    {
      "cell_type": "code",
      "metadata": {
        "id": "aIGv3KEd-pzK",
        "colab_type": "code",
        "outputId": "f666977a-f748-4165-f599-e67df0f5b7b0",
        "colab": {
          "base_uri": "https://localhost:8080/",
          "height": 84
        }
      },
      "source": [
        "# Testing my model with several classiffiers to see the better classifier\n",
        "x_train, x_test, y_train, y_test = train_test_split(X, y, test_size=0.2, random_state=0)\n",
        "\n",
        "# Several list of classifiers\n",
        "classifier = []\n",
        "classifier.append(('LR', LogisticRegression(solver='liblinear', multi_class='ovr')))\n",
        "classifier.append(('RF', RandomForestClassifier()))\n",
        "classifier.append(('NB', GaussianNB()))\n",
        "classifier.append(('SVM', SVC(gamma='auto')))\n",
        "\n",
        "results = []\n",
        "names = []\n",
        "# Implementing cross valiadtaion\n",
        "for name, model in classifier:\n",
        "   kfold = KFold(n_splits=5, random_state=0)\n",
        "   cv_results = cross_val_score(model, x_train, y_train, cv=kfold, scoring='accuracy')\n",
        "   results.append(cv_results)\n",
        "   names.append(name)\n",
        "   msg = \"%s: %f (%f)\" % (name, cv_results.mean(), cv_results.std())\n",
        "   print(msg)"
      ],
      "execution_count": 0,
      "outputs": [
        {
          "output_type": "stream",
          "text": [
            "LR: 0.486842 (0.047441)\n",
            "RF: 0.443421 (0.057895)\n",
            "NB: 0.301316 (0.038676)\n",
            "SVM: 0.481579 (0.033131)\n"
          ],
          "name": "stdout"
        }
      ]
    },
    {
      "cell_type": "markdown",
      "metadata": {
        "id": "U2QjMWsEp-OY",
        "colab_type": "text"
      },
      "source": [
        "We can see that logistic reggresion has the highest accuracy hence we use it for classification modelling"
      ]
    },
    {
      "cell_type": "markdown",
      "metadata": {
        "id": "2IXH_FYGp58r",
        "colab_type": "text"
      },
      "source": [
        "##### Hyperparameter Tuning"
      ]
    },
    {
      "cell_type": "code",
      "metadata": {
        "id": "4CfuxckR-pwP",
        "colab_type": "code",
        "outputId": "badbec9f-2aa5-4afa-efad-c8dd9a42cd16",
        "colab": {
          "base_uri": "https://localhost:8080/",
          "height": 50
        }
      },
      "source": [
        "# Here we want to fine tune our logistic regresion using Random Search:\n",
        "# Here are some the parameters\n",
        "param ={'multi_class' : ['ovr','auto'],\n",
        "        'penalty' : ['l1','l2'],\n",
        "        'C' : np.logspace(0, 4, 10)\n",
        "       }\n",
        "lr = LogisticRegression(\n",
        "\n",
        "clf = RandomizedSearchCV(lr, param, cv=5, verbose=0)\n",
        "clf.fit(x_train,y_train)\n",
        "y_pred = clf.predict(x_test)\n",
        "    \n",
        "# Perfomance metrics\n",
        "print(clf.best_params_)\n",
        "print(clf.best_score_)"
      ],
      "execution_count": 0,
      "outputs": [
        {
          "output_type": "stream",
          "text": [
            "{'penalty': 'l1', 'multi_class': 'ovr', 'C': 21.544346900318832}\n",
            "0.49605263157894736\n"
          ],
          "name": "stdout"
        }
      ]
    },
    {
      "cell_type": "code",
      "metadata": {
        "id": "rW_0gfEj-ps5",
        "colab_type": "code",
        "outputId": "8c07c395-998c-4ff8-dd06-4eed4fb70370",
        "colab": {
          "base_uri": "https://localhost:8080/",
          "height": 195
        }
      },
      "source": [
        "# Getting the Actual and predicted\n",
        "\n",
        "diff = pd.DataFrame({\"Actual\":y_test,\"Predicted\":y_pred})\n",
        "diff.head()"
      ],
      "execution_count": 407,
      "outputs": [
        {
          "output_type": "execute_result",
          "data": {
            "text/html": [
              "<div>\n",
              "<style scoped>\n",
              "    .dataframe tbody tr th:only-of-type {\n",
              "        vertical-align: middle;\n",
              "    }\n",
              "\n",
              "    .dataframe tbody tr th {\n",
              "        vertical-align: top;\n",
              "    }\n",
              "\n",
              "    .dataframe thead th {\n",
              "        text-align: right;\n",
              "    }\n",
              "</style>\n",
              "<table border=\"1\" class=\"dataframe\">\n",
              "  <thead>\n",
              "    <tr style=\"text-align: right;\">\n",
              "      <th></th>\n",
              "      <th>Actual</th>\n",
              "      <th>Predicted</th>\n",
              "    </tr>\n",
              "  </thead>\n",
              "  <tbody>\n",
              "    <tr>\n",
              "      <th>872</th>\n",
              "      <td>Win</td>\n",
              "      <td>Win</td>\n",
              "    </tr>\n",
              "    <tr>\n",
              "      <th>568</th>\n",
              "      <td>Win</td>\n",
              "      <td>Win</td>\n",
              "    </tr>\n",
              "    <tr>\n",
              "      <th>249</th>\n",
              "      <td>Lose</td>\n",
              "      <td>Lose</td>\n",
              "    </tr>\n",
              "    <tr>\n",
              "      <th>331</th>\n",
              "      <td>Lose</td>\n",
              "      <td>Win</td>\n",
              "    </tr>\n",
              "    <tr>\n",
              "      <th>492</th>\n",
              "      <td>Win</td>\n",
              "      <td>Win</td>\n",
              "    </tr>\n",
              "  </tbody>\n",
              "</table>\n",
              "</div>"
            ],
            "text/plain": [
              "    Actual Predicted\n",
              "872    Win       Win\n",
              "568    Win       Win\n",
              "249   Lose      Lose\n",
              "331   Lose       Win\n",
              "492    Win       Win"
            ]
          },
          "metadata": {
            "tags": []
          },
          "execution_count": 407
        }
      ]
    },
    {
      "cell_type": "code",
      "metadata": {
        "id": "WeMueHoo-pqC",
        "colab_type": "code",
        "outputId": "25d218d8-07a2-42d5-9a65-fd79ed4b5342",
        "colab": {
          "base_uri": "https://localhost:8080/",
          "height": 286
        }
      },
      "source": [
        "# Perfomance metrics\n",
        "print(\"Classification Report\")\n",
        "print(classification_report(y_test,y_pred))\n",
        "print(\"Confusion matrix\")\n",
        "print(confusion_matrix(y_test,y_pred))\n",
        "print(\"Accuracy\",accuracy_score(y_test,y_pred))\n",
        "\n"
      ],
      "execution_count": 0,
      "outputs": [
        {
          "output_type": "stream",
          "text": [
            "Classification Report\n",
            "              precision    recall  f1-score   support\n",
            "\n",
            "        Draw       0.33      0.02      0.04        46\n",
            "        Lose       0.32      0.12      0.18        48\n",
            "         Win       0.51      0.90      0.65        96\n",
            "\n",
            "    accuracy                           0.49       190\n",
            "   macro avg       0.39      0.35      0.29       190\n",
            "weighted avg       0.42      0.49      0.38       190\n",
            "\n",
            "Confusion matrix\n",
            "[[ 1  4 41]\n",
            " [ 1  6 41]\n",
            " [ 1  9 86]]\n",
            "Accuracy 0.48947368421052634\n"
          ],
          "name": "stdout"
        }
      ]
    },
    {
      "cell_type": "markdown",
      "metadata": {
        "id": "2_mdv-jdrtLJ",
        "colab_type": "text"
      },
      "source": [
        "We have accuracy of 49% which was pretty low \n",
        "\n",
        "\n"
      ]
    },
    {
      "cell_type": "markdown",
      "metadata": {
        "id": "k_y2wiNxsBM2",
        "colab_type": "text"
      },
      "source": [
        "## Challenging the solution"
      ]
    },
    {
      "cell_type": "markdown",
      "metadata": {
        "id": "UCJXe-P5suds",
        "colab_type": "text"
      },
      "source": [
        "The accuracy was low for all models used hence an indication that the data was not enough for the research question\n",
        "\n",
        "Extra features that have more weight on the goals scored byhome teams would have greatly improved the accuracy of the model\n"
      ]
    }
  ]
}